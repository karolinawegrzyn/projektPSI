{
  "nbformat": 4,
  "nbformat_minor": 0,
  "metadata": {
    "colab": {
      "name": "projekt_PSI.ipynb",
      "provenance": [],
      "authorship_tag": "ABX9TyPDAQuvQjZYkW+NtzZh9Aaj",
      "include_colab_link": true
    },
    "kernelspec": {
      "name": "python3",
      "display_name": "Python 3"
    },
    "language_info": {
      "name": "python"
    }
  },
  "cells": [
    {
      "cell_type": "markdown",
      "metadata": {
        "id": "view-in-github",
        "colab_type": "text"
      },
      "source": [
        "<a href=\"https://colab.research.google.com/github/karolinawegrzyn/projektPSI/blob/main/projekt_PSI.ipynb\" target=\"_parent\"><img src=\"https://colab.research.google.com/assets/colab-badge.svg\" alt=\"Open In Colab\"/></a>"
      ]
    },
    {
      "cell_type": "markdown",
      "source": [
        "# Przewidywanie czy uczeń pójdzie na studia\n",
        "# dataset: https://www.kaggle.com/datasets/saddamazyazy/go-to-college-dataset?select=data.csv\n"
      ],
      "metadata": {
        "id": "44Ru2j0AN6yS"
      }
    },
    {
      "cell_type": "code",
      "execution_count": 1,
      "metadata": {
        "id": "DpCNpfo4NxHm"
      },
      "outputs": [],
      "source": [
        "import numpy as np\n",
        "import pandas as pd\n",
        "import matplotlib.pyplot as plt\n",
        "import seaborn as sns"
      ]
    },
    {
      "cell_type": "markdown",
      "source": [
        "#Przetwarzanie danych\n",
        "\n"
      ],
      "metadata": {
        "id": "rH9lNDhQOVk8"
      }
    },
    {
      "cell_type": "code",
      "source": [
        "df = pd.read_csv('https://raw.githubusercontent.com/karolinawegrzyn/projektPSI/main/data.csv')\n",
        "df"
      ],
      "metadata": {
        "colab": {
          "base_uri": "https://localhost:8080/",
          "height": 424
        },
        "id": "twAZddRPOgPo",
        "outputId": "d9046896-78d7-4b01-eb7c-df93fef5c157"
      },
      "execution_count": 2,
      "outputs": [
        {
          "output_type": "execute_result",
          "data": {
            "text/plain": [
              "    type_school school_accreditation  gender          interest residence  \\\n",
              "0      Academic                    A    Male   Less Interested     Urban   \n",
              "1      Academic                    A    Male   Less Interested     Urban   \n",
              "2      Academic                    B  Female   Very Interested     Urban   \n",
              "3    Vocational                    B    Male   Very Interested     Rural   \n",
              "4      Academic                    A  Female   Very Interested     Urban   \n",
              "..          ...                  ...     ...               ...       ...   \n",
              "995  Vocational                    A  Female   Very Interested     Rural   \n",
              "996    Academic                    B  Female   Less Interested     Rural   \n",
              "997  Vocational                    A    Male   Less Interested     Urban   \n",
              "998    Academic                    B    Male         Uncertain     Rural   \n",
              "999    Academic                    B    Male  Quiet Interested     Urban   \n",
              "\n",
              "     parent_age  parent_salary  house_area  average_grades  \\\n",
              "0            56        6950000        83.0           84.09   \n",
              "1            57        4410000        76.8           86.91   \n",
              "2            50        6500000        80.6           87.43   \n",
              "3            49        6600000        78.2           82.12   \n",
              "4            57        5250000        75.1           86.79   \n",
              "..          ...            ...         ...             ...   \n",
              "995          49        7420000        63.6           85.99   \n",
              "996          51        7480000        84.3           89.72   \n",
              "997          49        5550000        75.2           79.56   \n",
              "998          53        5840000       105.8           87.18   \n",
              "999          50        2940000        69.1           86.13   \n",
              "\n",
              "     parent_was_in_college  in_college  \n",
              "0                    False        True  \n",
              "1                    False        True  \n",
              "2                    False        True  \n",
              "3                     True        True  \n",
              "4                    False       False  \n",
              "..                     ...         ...  \n",
              "995                   True        True  \n",
              "996                   True        True  \n",
              "997                  False        True  \n",
              "998                   True        True  \n",
              "999                   True       False  \n",
              "\n",
              "[1000 rows x 11 columns]"
            ],
            "text/html": [
              "\n",
              "  <div id=\"df-ea90daf6-f5b2-478a-926a-46047b527dca\">\n",
              "    <div class=\"colab-df-container\">\n",
              "      <div>\n",
              "<style scoped>\n",
              "    .dataframe tbody tr th:only-of-type {\n",
              "        vertical-align: middle;\n",
              "    }\n",
              "\n",
              "    .dataframe tbody tr th {\n",
              "        vertical-align: top;\n",
              "    }\n",
              "\n",
              "    .dataframe thead th {\n",
              "        text-align: right;\n",
              "    }\n",
              "</style>\n",
              "<table border=\"1\" class=\"dataframe\">\n",
              "  <thead>\n",
              "    <tr style=\"text-align: right;\">\n",
              "      <th></th>\n",
              "      <th>type_school</th>\n",
              "      <th>school_accreditation</th>\n",
              "      <th>gender</th>\n",
              "      <th>interest</th>\n",
              "      <th>residence</th>\n",
              "      <th>parent_age</th>\n",
              "      <th>parent_salary</th>\n",
              "      <th>house_area</th>\n",
              "      <th>average_grades</th>\n",
              "      <th>parent_was_in_college</th>\n",
              "      <th>in_college</th>\n",
              "    </tr>\n",
              "  </thead>\n",
              "  <tbody>\n",
              "    <tr>\n",
              "      <th>0</th>\n",
              "      <td>Academic</td>\n",
              "      <td>A</td>\n",
              "      <td>Male</td>\n",
              "      <td>Less Interested</td>\n",
              "      <td>Urban</td>\n",
              "      <td>56</td>\n",
              "      <td>6950000</td>\n",
              "      <td>83.0</td>\n",
              "      <td>84.09</td>\n",
              "      <td>False</td>\n",
              "      <td>True</td>\n",
              "    </tr>\n",
              "    <tr>\n",
              "      <th>1</th>\n",
              "      <td>Academic</td>\n",
              "      <td>A</td>\n",
              "      <td>Male</td>\n",
              "      <td>Less Interested</td>\n",
              "      <td>Urban</td>\n",
              "      <td>57</td>\n",
              "      <td>4410000</td>\n",
              "      <td>76.8</td>\n",
              "      <td>86.91</td>\n",
              "      <td>False</td>\n",
              "      <td>True</td>\n",
              "    </tr>\n",
              "    <tr>\n",
              "      <th>2</th>\n",
              "      <td>Academic</td>\n",
              "      <td>B</td>\n",
              "      <td>Female</td>\n",
              "      <td>Very Interested</td>\n",
              "      <td>Urban</td>\n",
              "      <td>50</td>\n",
              "      <td>6500000</td>\n",
              "      <td>80.6</td>\n",
              "      <td>87.43</td>\n",
              "      <td>False</td>\n",
              "      <td>True</td>\n",
              "    </tr>\n",
              "    <tr>\n",
              "      <th>3</th>\n",
              "      <td>Vocational</td>\n",
              "      <td>B</td>\n",
              "      <td>Male</td>\n",
              "      <td>Very Interested</td>\n",
              "      <td>Rural</td>\n",
              "      <td>49</td>\n",
              "      <td>6600000</td>\n",
              "      <td>78.2</td>\n",
              "      <td>82.12</td>\n",
              "      <td>True</td>\n",
              "      <td>True</td>\n",
              "    </tr>\n",
              "    <tr>\n",
              "      <th>4</th>\n",
              "      <td>Academic</td>\n",
              "      <td>A</td>\n",
              "      <td>Female</td>\n",
              "      <td>Very Interested</td>\n",
              "      <td>Urban</td>\n",
              "      <td>57</td>\n",
              "      <td>5250000</td>\n",
              "      <td>75.1</td>\n",
              "      <td>86.79</td>\n",
              "      <td>False</td>\n",
              "      <td>False</td>\n",
              "    </tr>\n",
              "    <tr>\n",
              "      <th>...</th>\n",
              "      <td>...</td>\n",
              "      <td>...</td>\n",
              "      <td>...</td>\n",
              "      <td>...</td>\n",
              "      <td>...</td>\n",
              "      <td>...</td>\n",
              "      <td>...</td>\n",
              "      <td>...</td>\n",
              "      <td>...</td>\n",
              "      <td>...</td>\n",
              "      <td>...</td>\n",
              "    </tr>\n",
              "    <tr>\n",
              "      <th>995</th>\n",
              "      <td>Vocational</td>\n",
              "      <td>A</td>\n",
              "      <td>Female</td>\n",
              "      <td>Very Interested</td>\n",
              "      <td>Rural</td>\n",
              "      <td>49</td>\n",
              "      <td>7420000</td>\n",
              "      <td>63.6</td>\n",
              "      <td>85.99</td>\n",
              "      <td>True</td>\n",
              "      <td>True</td>\n",
              "    </tr>\n",
              "    <tr>\n",
              "      <th>996</th>\n",
              "      <td>Academic</td>\n",
              "      <td>B</td>\n",
              "      <td>Female</td>\n",
              "      <td>Less Interested</td>\n",
              "      <td>Rural</td>\n",
              "      <td>51</td>\n",
              "      <td>7480000</td>\n",
              "      <td>84.3</td>\n",
              "      <td>89.72</td>\n",
              "      <td>True</td>\n",
              "      <td>True</td>\n",
              "    </tr>\n",
              "    <tr>\n",
              "      <th>997</th>\n",
              "      <td>Vocational</td>\n",
              "      <td>A</td>\n",
              "      <td>Male</td>\n",
              "      <td>Less Interested</td>\n",
              "      <td>Urban</td>\n",
              "      <td>49</td>\n",
              "      <td>5550000</td>\n",
              "      <td>75.2</td>\n",
              "      <td>79.56</td>\n",
              "      <td>False</td>\n",
              "      <td>True</td>\n",
              "    </tr>\n",
              "    <tr>\n",
              "      <th>998</th>\n",
              "      <td>Academic</td>\n",
              "      <td>B</td>\n",
              "      <td>Male</td>\n",
              "      <td>Uncertain</td>\n",
              "      <td>Rural</td>\n",
              "      <td>53</td>\n",
              "      <td>5840000</td>\n",
              "      <td>105.8</td>\n",
              "      <td>87.18</td>\n",
              "      <td>True</td>\n",
              "      <td>True</td>\n",
              "    </tr>\n",
              "    <tr>\n",
              "      <th>999</th>\n",
              "      <td>Academic</td>\n",
              "      <td>B</td>\n",
              "      <td>Male</td>\n",
              "      <td>Quiet Interested</td>\n",
              "      <td>Urban</td>\n",
              "      <td>50</td>\n",
              "      <td>2940000</td>\n",
              "      <td>69.1</td>\n",
              "      <td>86.13</td>\n",
              "      <td>True</td>\n",
              "      <td>False</td>\n",
              "    </tr>\n",
              "  </tbody>\n",
              "</table>\n",
              "<p>1000 rows × 11 columns</p>\n",
              "</div>\n",
              "      <button class=\"colab-df-convert\" onclick=\"convertToInteractive('df-ea90daf6-f5b2-478a-926a-46047b527dca')\"\n",
              "              title=\"Convert this dataframe to an interactive table.\"\n",
              "              style=\"display:none;\">\n",
              "        \n",
              "  <svg xmlns=\"http://www.w3.org/2000/svg\" height=\"24px\"viewBox=\"0 0 24 24\"\n",
              "       width=\"24px\">\n",
              "    <path d=\"M0 0h24v24H0V0z\" fill=\"none\"/>\n",
              "    <path d=\"M18.56 5.44l.94 2.06.94-2.06 2.06-.94-2.06-.94-.94-2.06-.94 2.06-2.06.94zm-11 1L8.5 8.5l.94-2.06 2.06-.94-2.06-.94L8.5 2.5l-.94 2.06-2.06.94zm10 10l.94 2.06.94-2.06 2.06-.94-2.06-.94-.94-2.06-.94 2.06-2.06.94z\"/><path d=\"M17.41 7.96l-1.37-1.37c-.4-.4-.92-.59-1.43-.59-.52 0-1.04.2-1.43.59L10.3 9.45l-7.72 7.72c-.78.78-.78 2.05 0 2.83L4 21.41c.39.39.9.59 1.41.59.51 0 1.02-.2 1.41-.59l7.78-7.78 2.81-2.81c.8-.78.8-2.07 0-2.86zM5.41 20L4 18.59l7.72-7.72 1.47 1.35L5.41 20z\"/>\n",
              "  </svg>\n",
              "      </button>\n",
              "      \n",
              "  <style>\n",
              "    .colab-df-container {\n",
              "      display:flex;\n",
              "      flex-wrap:wrap;\n",
              "      gap: 12px;\n",
              "    }\n",
              "\n",
              "    .colab-df-convert {\n",
              "      background-color: #E8F0FE;\n",
              "      border: none;\n",
              "      border-radius: 50%;\n",
              "      cursor: pointer;\n",
              "      display: none;\n",
              "      fill: #1967D2;\n",
              "      height: 32px;\n",
              "      padding: 0 0 0 0;\n",
              "      width: 32px;\n",
              "    }\n",
              "\n",
              "    .colab-df-convert:hover {\n",
              "      background-color: #E2EBFA;\n",
              "      box-shadow: 0px 1px 2px rgba(60, 64, 67, 0.3), 0px 1px 3px 1px rgba(60, 64, 67, 0.15);\n",
              "      fill: #174EA6;\n",
              "    }\n",
              "\n",
              "    [theme=dark] .colab-df-convert {\n",
              "      background-color: #3B4455;\n",
              "      fill: #D2E3FC;\n",
              "    }\n",
              "\n",
              "    [theme=dark] .colab-df-convert:hover {\n",
              "      background-color: #434B5C;\n",
              "      box-shadow: 0px 1px 3px 1px rgba(0, 0, 0, 0.15);\n",
              "      filter: drop-shadow(0px 1px 2px rgba(0, 0, 0, 0.3));\n",
              "      fill: #FFFFFF;\n",
              "    }\n",
              "  </style>\n",
              "\n",
              "      <script>\n",
              "        const buttonEl =\n",
              "          document.querySelector('#df-ea90daf6-f5b2-478a-926a-46047b527dca button.colab-df-convert');\n",
              "        buttonEl.style.display =\n",
              "          google.colab.kernel.accessAllowed ? 'block' : 'none';\n",
              "\n",
              "        async function convertToInteractive(key) {\n",
              "          const element = document.querySelector('#df-ea90daf6-f5b2-478a-926a-46047b527dca');\n",
              "          const dataTable =\n",
              "            await google.colab.kernel.invokeFunction('convertToInteractive',\n",
              "                                                     [key], {});\n",
              "          if (!dataTable) return;\n",
              "\n",
              "          const docLinkHtml = 'Like what you see? Visit the ' +\n",
              "            '<a target=\"_blank\" href=https://colab.research.google.com/notebooks/data_table.ipynb>data table notebook</a>'\n",
              "            + ' to learn more about interactive tables.';\n",
              "          element.innerHTML = '';\n",
              "          dataTable['output_type'] = 'display_data';\n",
              "          await google.colab.output.renderOutput(dataTable, element);\n",
              "          const docLink = document.createElement('div');\n",
              "          docLink.innerHTML = docLinkHtml;\n",
              "          element.appendChild(docLink);\n",
              "        }\n",
              "      </script>\n",
              "    </div>\n",
              "  </div>\n",
              "  "
            ]
          },
          "metadata": {},
          "execution_count": 2
        }
      ]
    },
    {
      "cell_type": "code",
      "source": [
        "df.info()"
      ],
      "metadata": {
        "colab": {
          "base_uri": "https://localhost:8080/"
        },
        "id": "N0ktEuQzPjL-",
        "outputId": "7d44fd9b-25d2-4218-b62f-519489225bbe"
      },
      "execution_count": 3,
      "outputs": [
        {
          "output_type": "stream",
          "name": "stdout",
          "text": [
            "<class 'pandas.core.frame.DataFrame'>\n",
            "RangeIndex: 1000 entries, 0 to 999\n",
            "Data columns (total 11 columns):\n",
            " #   Column                 Non-Null Count  Dtype  \n",
            "---  ------                 --------------  -----  \n",
            " 0   type_school            1000 non-null   object \n",
            " 1   school_accreditation   1000 non-null   object \n",
            " 2   gender                 1000 non-null   object \n",
            " 3   interest               1000 non-null   object \n",
            " 4   residence              1000 non-null   object \n",
            " 5   parent_age             1000 non-null   int64  \n",
            " 6   parent_salary          1000 non-null   int64  \n",
            " 7   house_area             1000 non-null   float64\n",
            " 8   average_grades         1000 non-null   float64\n",
            " 9   parent_was_in_college  1000 non-null   bool   \n",
            " 10  in_college             1000 non-null   bool   \n",
            "dtypes: bool(2), float64(2), int64(2), object(5)\n",
            "memory usage: 72.4+ KB\n"
          ]
        }
      ]
    },
    {
      "cell_type": "markdown",
      "source": [
        "\n",
        "Kolumny:\n",
        "- type_school - typ szkoły do której uczęszcza uczeń\n",
        "- school_accreditation - jakość szkoły (A lub B, A jest lepsze od B)\n",
        "- gender - płeć\n",
        "- interest - jak zainteresowany jest uczeń w pójście na studia\n",
        "- residence - rodzaj zamieszkania\n",
        "- parent_age - wiek rodziców\n",
        "- parent_salary - zarobki rodziców\n",
        "- house_area - wielkość domu rodzinnego w metrach kwadratowych\n",
        "- average_grades - średnia ocen\n",
        "- parent_was_in_college - czy rodzic był na studiach\n",
        "- in_college - czy na studiach\n"
      ],
      "metadata": {
        "id": "zs8ker8IQs1j"
      }
    },
    {
      "cell_type": "markdown",
      "source": [
        "Jak widzimy nie ma w naszym datasecie missing data, jednak musimy zmienić część danych na numeryczne"
      ],
      "metadata": {
        "id": "H-FJhPQ0J8ix"
      }
    },
    {
      "cell_type": "code",
      "source": [
        "df['type_school'].value_counts().plot(kind='bar')\n",
        "plt.show()\n",
        "\n",
        "df['type_school'] = df['type_school'].replace({ 'Academic': 1, 'Vocational': 2})"
      ],
      "metadata": {
        "colab": {
          "base_uri": "https://localhost:8080/",
          "height": 307
        },
        "id": "Bws-l60VB6E9",
        "outputId": "668d60b7-4325-4106-dfab-28726aa4919c"
      },
      "execution_count": 4,
      "outputs": [
        {
          "output_type": "display_data",
          "data": {
            "text/plain": [
              "<Figure size 432x288 with 1 Axes>"
            ],
            "image/png": "[encoded data removed]"
          },
          "metadata": {
            "needs_background": "light"
          }
        }
      ]
    },
    {
      "cell_type": "code",
      "source": [
        "df['school_accreditation'].value_counts().plot(kind='bar')\n",
        "plt.show()\n",
        "\n",
        "df['school_accreditation'] = df['school_accreditation'].replace({'B' : 1, 'A': 2})"
      ],
      "metadata": {
        "colab": {
          "base_uri": "https://localhost:8080/",
          "height": 262
        },
        "id": "6n9_wIR3GL0P",
        "outputId": "d6381bee-061e-42ea-e374-bc1f80ce65c4"
      },
      "execution_count": 5,
      "outputs": [
        {
          "output_type": "display_data",
          "data": {
            "text/plain": [
              "<Figure size 432x288 with 1 Axes>"
            ],
            "image/png": "[encoded data removed]"
          },
          "metadata": {
            "needs_background": "light"
          }
        }
      ]
    },
    {
      "cell_type": "code",
      "source": [
        "df['gender'].value_counts().plot(kind='bar')\n",
        "plt.show()\n",
        "\n",
        "df['gender'] = df['gender'].replace({'Male': 1, 'Female': 2})"
      ],
      "metadata": {
        "colab": {
          "base_uri": "https://localhost:8080/",
          "height": 291
        },
        "id": "q9n3UAPyGoRB",
        "outputId": "9cf6a813-b690-4594-c36f-d07f0ca0e717"
      },
      "execution_count": 6,
      "outputs": [
        {
          "output_type": "display_data",
          "data": {
            "text/plain": [
              "<Figure size 432x288 with 1 Axes>"
            ],
            "image/png": "[encoded data removed]"
          },
          "metadata": {
            "needs_background": "light"
          }
        }
      ]
    },
    {
      "cell_type": "code",
      "source": [
        "df['interest'].value_counts().plot(kind='bar')\n",
        "plt.show()\n",
        "\n",
        "df['interest'] = df['interest'].replace({'Not Interested': 1, 'Less Interested': 2, 'Uncertain' : 3, 'Quiet Interested': 4, 'Very Interested': 5})"
      ],
      "metadata": {
        "colab": {
          "base_uri": "https://localhost:8080/",
          "height": 336
        },
        "id": "dAiUytkAH5tl",
        "outputId": "8b9c5e6b-e7b8-4679-8ec8-2cf6f5f669fd"
      },
      "execution_count": 7,
      "outputs": [
        {
          "output_type": "display_data",
          "data": {
            "text/plain": [
              "<Figure size 432x288 with 1 Axes>"
            ],
            "image/png": "[encoded data removed]"
          },
          "metadata": {
            "needs_background": "light"
          }
        }
      ]
    },
    {
      "cell_type": "code",
      "source": [
        "df['residence'].value_counts().plot(kind='bar')\n",
        "plt.show()\n",
        "\n",
        "df['residence'] = df['residence'].replace({'Urban': 1, 'Rural': 2})"
      ],
      "metadata": {
        "colab": {
          "base_uri": "https://localhost:8080/",
          "height": 286
        },
        "id": "KzpInbj3JLxV",
        "outputId": "f7880821-63b4-433d-fdce-2072e490459c"
      },
      "execution_count": 8,
      "outputs": [
        {
          "output_type": "display_data",
          "data": {
            "text/plain": [
              "<Figure size 432x288 with 1 Axes>"
            ],
            "image/png": "[encoded data removed]"
          },
          "metadata": {
            "needs_background": "light"
          }
        }
      ]
    },
    {
      "cell_type": "code",
      "source": [
        "df['parent_was_in_college'].value_counts().plot(kind='bar')\n",
        "plt.show()\n",
        "\n",
        "df['parent_was_in_college'] = df['parent_was_in_college'].replace({True: 1, False: 0})"
      ],
      "metadata": {
        "colab": {
          "base_uri": "https://localhost:8080/",
          "height": 281
        },
        "id": "eTMzC-2dJue0",
        "outputId": "c61fdda6-f410-4897-e742-d6c8132c0a41"
      },
      "execution_count": 9,
      "outputs": [
        {
          "output_type": "display_data",
          "data": {
            "text/plain": [
              "<Figure size 432x288 with 1 Axes>"
            ],
            "image/png": "[encoded data removed]"
          },
          "metadata": {
            "needs_background": "light"
          }
        }
      ]
    },
    {
      "cell_type": "code",
      "source": [
        "df['in_college'].value_counts().plot(kind='bar')\n",
        "plt.show()\n",
        "\n",
        "df['in_college'] = df['in_college'].replace({True: 1, False: 0})"
      ],
      "metadata": {
        "colab": {
          "base_uri": "https://localhost:8080/",
          "height": 281
        },
        "id": "WpuAwbsXJ5h8",
        "outputId": "00c9b9c1-ceeb-4ff0-fb4d-c5a0c5a95ed7"
      },
      "execution_count": 10,
      "outputs": [
        {
          "output_type": "display_data",
          "data": {
            "text/plain": [
              "<Figure size 432x288 with 1 Axes>"
            ],
            "image/png": "[encoded data removed]"
          },
          "metadata": {
            "needs_background": "light"
          }
        }
      ]
    },
    {
      "cell_type": "code",
      "source": [
        "df.info()"
      ],
      "metadata": {
        "colab": {
          "base_uri": "https://localhost:8080/"
        },
        "id": "lVJRoh9iKAKY",
        "outputId": "cac8ba06-9d0f-423c-a31f-8b6274346bcc"
      },
      "execution_count": 11,
      "outputs": [
        {
          "output_type": "stream",
          "name": "stdout",
          "text": [
            "<class 'pandas.core.frame.DataFrame'>\n",
            "RangeIndex: 1000 entries, 0 to 999\n",
            "Data columns (total 11 columns):\n",
            " #   Column                 Non-Null Count  Dtype  \n",
            "---  ------                 --------------  -----  \n",
            " 0   type_school            1000 non-null   int64  \n",
            " 1   school_accreditation   1000 non-null   int64  \n",
            " 2   gender                 1000 non-null   int64  \n",
            " 3   interest               1000 non-null   int64  \n",
            " 4   residence              1000 non-null   int64  \n",
            " 5   parent_age             1000 non-null   int64  \n",
            " 6   parent_salary          1000 non-null   int64  \n",
            " 7   house_area             1000 non-null   float64\n",
            " 8   average_grades         1000 non-null   float64\n",
            " 9   parent_was_in_college  1000 non-null   int64  \n",
            " 10  in_college             1000 non-null   int64  \n",
            "dtypes: float64(2), int64(9)\n",
            "memory usage: 86.1 KB\n"
          ]
        }
      ]
    },
    {
      "cell_type": "markdown",
      "source": [
        "Jak widać wszędzie teraz mamy dane numeryczne"
      ],
      "metadata": {
        "id": "XYv6XXV3LCwx"
      }
    },
    {
      "cell_type": "markdown",
      "source": [
        "#Modelowanie"
      ],
      "metadata": {
        "id": "d3hGaZPFLO2K"
      }
    },
    {
      "cell_type": "markdown",
      "source": [
        "\n",
        "Dzielimy dane na treningowe i testowe"
      ],
      "metadata": {
        "id": "vxjp46kqNCAC"
      }
    },
    {
      "cell_type": "code",
      "source": [
        "from sklearn.model_selection import train_test_split\n",
        "X = df.drop('in_college', axis=1)\n",
        "Y = df.in_college\n",
        "\n",
        "X_train, X_test, y_train, y_test = train_test_split(X, Y, test_size=0.2)"
      ],
      "metadata": {
        "id": "YbWKCQjXMR0M"
      },
      "execution_count": 12,
      "outputs": []
    },
    {
      "cell_type": "code",
      "source": [
        "from sklearn.model_selection import StratifiedKFold\n",
        "\n",
        "kfold = StratifiedKFold(n_splits=5)"
      ],
      "metadata": {
        "id": "hWBUDAR2ONCc"
      },
      "execution_count": 13,
      "outputs": []
    },
    {
      "cell_type": "code",
      "source": [
        "from sklearn.linear_model import LogisticRegression\n",
        "from sklearn.model_selection import GridSearchCV\n",
        "from imblearn.pipeline import Pipeline\n",
        "from sklearn.preprocessing import StandardScaler\n",
        "from sklearn.tree import DecisionTreeClassifier\n",
        "from sklearn.ensemble import RandomForestClassifier\n",
        "from sklearn.svm import SVC\n",
        "from sklearn.ensemble import AdaBoostClassifier"
      ],
      "metadata": {
        "id": "0PKJVcuJRivu"
      },
      "execution_count": 14,
      "outputs": []
    },
    {
      "cell_type": "markdown",
      "source": [
        "Logistic Regression"
      ],
      "metadata": {
        "id": "1UqLTqsdQfQX"
      }
    },
    {
      "cell_type": "code",
      "source": [
        "pipe = Pipeline([('preprocessing', StandardScaler()), ('classifier', LogisticRegression())])\n",
        "\n",
        "param_grid = {\n",
        "    'preprocessing': [StandardScaler(), None],\n",
        "    'classifier__C': [0.01, 0.1, 1, 10, 100],\n",
        "}\n",
        "\n",
        "grid_1 = GridSearchCV(pipe, param_grid, cv=kfold)\n",
        "grid_1.fit(X_train, y_train)\n",
        "grid_1.best_params_"
      ],
      "metadata": {
        "colab": {
          "base_uri": "https://localhost:8080/"
        },
        "id": "T8VKME8dQhiS",
        "outputId": "bf544405-b818-4ddf-ead0-86515d1f5ec8"
      },
      "execution_count": 15,
      "outputs": [
        {
          "output_type": "execute_result",
          "data": {
            "text/plain": [
              "{'classifier__C': 0.1, 'preprocessing': StandardScaler()}"
            ]
          },
          "metadata": {},
          "execution_count": 15
        }
      ]
    },
    {
      "cell_type": "markdown",
      "source": [
        "Decision Tree Classifier"
      ],
      "metadata": {
        "id": "xgKDoXhWSjMY"
      }
    },
    {
      "cell_type": "code",
      "source": [
        "pipe = Pipeline([('preprocessing', StandardScaler()), ('classifier', DecisionTreeClassifier())])\n",
        "\n",
        "param_grid = {\n",
        "            'preprocessing': [StandardScaler(), None],\n",
        "            'classifier__max_depth': [1, 5, 10, 15, 20, 40, 70],\n",
        "            'classifier__max_leaf_nodes': [20, 30, 40, 50, 60, 70],\n",
        "            'classifier__criterion': ['entropy', 'gini'],\n",
        "}\n",
        "\n",
        "grid_2 = GridSearchCV(pipe, param_grid, cv=kfold, return_train_score=True)\n",
        "grid_2.fit(X_train, y_train)\n",
        "grid_2.best_params_"
      ],
      "metadata": {
        "colab": {
          "base_uri": "https://localhost:8080/"
        },
        "id": "XtqOaGroWT87",
        "outputId": "d7e85b0f-d021-4028-d9fc-17a8e6d18875"
      },
      "execution_count": 16,
      "outputs": [
        {
          "output_type": "execute_result",
          "data": {
            "text/plain": [
              "{'classifier__criterion': 'entropy',\n",
              " 'classifier__max_depth': 5,\n",
              " 'classifier__max_leaf_nodes': 20,\n",
              " 'preprocessing': None}"
            ]
          },
          "metadata": {},
          "execution_count": 16
        }
      ]
    },
    {
      "cell_type": "markdown",
      "source": [
        "Random Forest Classifier"
      ],
      "metadata": {
        "id": "dMbMjC-rZc-C"
      }
    },
    {
      "cell_type": "code",
      "source": [
        "pipe = Pipeline([('preprocessing', StandardScaler()), ('classifier', RandomForestClassifier(n_jobs=-1))])\n",
        "\n",
        "param_grid = {\n",
        "            'preprocessing': [StandardScaler(), None],\n",
        "            'classifier__n_estimators' : [1, 5, 10, 50, 100, 200],\n",
        "            'classifier__max_leaf_nodes': [20, 30, 40, 50, 60, 70],\n",
        "}\n",
        "\n",
        "grid_3 = GridSearchCV(pipe, param_grid, cv=kfold, return_train_score=True)\n",
        "grid_3.fit(X_train, y_train)\n",
        "grid_3.best_params_"
      ],
      "metadata": {
        "colab": {
          "base_uri": "https://localhost:8080/"
        },
        "id": "x-XbRMUpZ9ra",
        "outputId": "42fc7117-2171-44ab-e7a8-8fa139d3cf3a"
      },
      "execution_count": 17,
      "outputs": [
        {
          "output_type": "execute_result",
          "data": {
            "text/plain": [
              "{'classifier__max_leaf_nodes': 70,\n",
              " 'classifier__n_estimators': 200,\n",
              " 'preprocessing': None}"
            ]
          },
          "metadata": {},
          "execution_count": 17
        }
      ]
    },
    {
      "cell_type": "markdown",
      "source": [
        "SVM z jądrem linear"
      ],
      "metadata": {
        "id": "7bikJdQ1a6OD"
      }
    },
    {
      "cell_type": "code",
      "source": [
        "pipe = Pipeline([('preprocessing', StandardScaler()), ('classifier', SVC(kernel=\"linear\", probability=True))])\n",
        "\n",
        "param_grid = {\n",
        "            'preprocessing': [StandardScaler(), None],\n",
        "            'classifier__C': [00.1, 0.1, 1, 10, 100],\n",
        "}\n",
        "\n",
        "grid_4 = GridSearchCV(pipe, param_grid, cv=kfold, return_train_score=True)\n",
        "grid_4.fit(X_train, y_train)\n",
        "grid_4.best_params_"
      ],
      "metadata": {
        "id": "7j4iFyyR1ZAX"
      },
      "execution_count": null,
      "outputs": []
    },
    {
      "cell_type": "markdown",
      "source": [
        "SVM z jądrem rbf"
      ],
      "metadata": {
        "id": "kd4oUqb-c5CQ"
      }
    },
    {
      "cell_type": "code",
      "source": [
        "pipe = Pipeline([('preprocessing', StandardScaler()), ('classifier', SVC(kernel='rbf'))])\n",
        "\n",
        "param_grid = {\n",
        "            'preprocessing': [StandardScaler(), None],\n",
        "            'classifier__C': [00.1, 0.1, 1, 10, 100],\n",
        "            'classifier__gamma': [0.01, 0.1, 1, 10, 100],\n",
        "}\n",
        "\n",
        "grid_5 = GridSearchCV(pipe, param_grid, cv=kfold, return_train_score=True)\n",
        "grid_5.fit(X_train, y_train)\n",
        "grid_5.best_params_"
      ],
      "metadata": {
        "colab": {
          "base_uri": "https://localhost:8080/"
        },
        "id": "5XecSRjf1V-h",
        "outputId": "1f3558b7-33d3-495c-cf6f-6621e222e7a7"
      },
      "execution_count": 18,
      "outputs": [
        {
          "output_type": "execute_result",
          "data": {
            "text/plain": [
              "{'classifier__C': 100,\n",
              " 'classifier__gamma': 0.01,\n",
              " 'preprocessing': StandardScaler()}"
            ]
          },
          "metadata": {},
          "execution_count": 18
        }
      ]
    },
    {
      "cell_type": "markdown",
      "source": [
        "Ada Boost"
      ],
      "metadata": {
        "id": "TBdjKWv0I0Rh"
      }
    },
    {
      "cell_type": "code",
      "source": [
        "pipe = Pipeline([('preprocessing', StandardScaler()), ('classifier', AdaBoostClassifier())])\n",
        "\n",
        "param_grid = {\n",
        "            'preprocessing': [StandardScaler(), None],\n",
        "            'classifier__n_estimators' : [5, 10, 50, 100, 150, 200],\n",
        "            'classifier__learning_rate' : [0.0001, 0.001, 0.01, 0.1, 0.5],\n",
        "}\n",
        "\n",
        "grid_6 = GridSearchCV(pipe, param_grid, cv=kfold, return_train_score=True)\n",
        "grid_6.fit(X_train, y_train)\n",
        "grid_6.best_params_"
      ],
      "metadata": {
        "colab": {
          "base_uri": "https://localhost:8080/"
        },
        "id": "UVNapNGDI7xa",
        "outputId": "dd2e3540-d858-49c0-d9e8-9eaaf7b3f50d"
      },
      "execution_count": 19,
      "outputs": [
        {
          "output_type": "execute_result",
          "data": {
            "text/plain": [
              "{'classifier__learning_rate': 0.5,\n",
              " 'classifier__n_estimators': 150,\n",
              " 'preprocessing': StandardScaler()}"
            ]
          },
          "metadata": {},
          "execution_count": 19
        }
      ]
    },
    {
      "cell_type": "code",
      "source": [
        "from sklearn import  metrics\n",
        "\n",
        "\n",
        "models = []\n",
        "models.append(('Logistic Regression', grid_1.best_estimator_))\n",
        "models.append(('Decision Tree Classifier',grid_2.best_estimator_))\n",
        "models.append(('Random Forest Classifier', grid_3.best_estimator_))\n",
        "#models.append(('SVM linear', grid_4.best_estimator_))\n",
        "models.append(('SVM rbf', grid_5.best_estimator_))\n",
        "models.append(('Ada Boosr', grid_6.best_estimator_))\n",
        "\n",
        "\n",
        "precision_score = []\n",
        "recall_score = []\n",
        "f1_score = []\n",
        "accuracy_score = []\n",
        "for name, model in models:\n",
        "    precision_score.append(metrics.precision_score(y_test, model.predict(X_test)))\n",
        "    recall_score.append(metrics.recall_score(y_test, model.predict(X_test)))\n",
        "    f1_score.append( metrics.f1_score(y_test, model.predict(X_test)))\n",
        "    accuracy_score.append(metrics.accuracy_score(y_test, model.predict(X_test)))"
      ],
      "metadata": {
        "id": "90bo-39xXM5c"
      },
      "execution_count": 20,
      "outputs": []
    },
    {
      "cell_type": "code",
      "source": [
        "import pandas as pd\n",
        "d = {'precision_score': precision_score, \n",
        "     'recall_score': recall_score, \n",
        "     'f1_score': f1_score,\n",
        "     'accuracy_score' : accuracy_score\n",
        "    }\n",
        "dataframe = pd.DataFrame(data=d)\n",
        "dataframe.insert(loc=0, column='Method', value=['Logistic Regression', 'Decision Tree Classifier', 'Random Forest Classifier', 'SVM rbf', 'Ada Boost'])\n",
        "dataframe"
      ],
      "metadata": {
        "colab": {
          "base_uri": "https://localhost:8080/",
          "height": 206
        },
        "id": "iNVtxYGQXOI3",
        "outputId": "baf50db4-1541-4b25-8999-e52103d30863"
      },
      "execution_count": 21,
      "outputs": [
        {
          "output_type": "execute_result",
          "data": {
            "text/plain": [
              "                     Method  precision_score  recall_score  f1_score  \\\n",
              "0       Logistic Regression         0.873786      0.833333  0.853081   \n",
              "1  Decision Tree Classifier         0.861386      0.805556  0.832536   \n",
              "2  Random Forest Classifier         0.878788      0.805556  0.840580   \n",
              "3                   SVM rbf         0.876190      0.851852  0.863850   \n",
              "4                 Ada Boost         0.872549      0.824074  0.847619   \n",
              "\n",
              "   accuracy_score  \n",
              "0           0.845  \n",
              "1           0.825  \n",
              "2           0.835  \n",
              "3           0.855  \n",
              "4           0.840  "
            ],
            "text/html": [
              "\n",
              "  <div id=\"df-c9264b0c-3d19-48f8-aaf4-289d83e507e5\">\n",
              "    <div class=\"colab-df-container\">\n",
              "      <div>\n",
              "<style scoped>\n",
              "    .dataframe tbody tr th:only-of-type {\n",
              "        vertical-align: middle;\n",
              "    }\n",
              "\n",
              "    .dataframe tbody tr th {\n",
              "        vertical-align: top;\n",
              "    }\n",
              "\n",
              "    .dataframe thead th {\n",
              "        text-align: right;\n",
              "    }\n",
              "</style>\n",
              "<table border=\"1\" class=\"dataframe\">\n",
              "  <thead>\n",
              "    <tr style=\"text-align: right;\">\n",
              "      <th></th>\n",
              "      <th>Method</th>\n",
              "      <th>precision_score</th>\n",
              "      <th>recall_score</th>\n",
              "      <th>f1_score</th>\n",
              "      <th>accuracy_score</th>\n",
              "    </tr>\n",
              "  </thead>\n",
              "  <tbody>\n",
              "    <tr>\n",
              "      <th>0</th>\n",
              "      <td>Logistic Regression</td>\n",
              "      <td>0.873786</td>\n",
              "      <td>0.833333</td>\n",
              "      <td>0.853081</td>\n",
              "      <td>0.845</td>\n",
              "    </tr>\n",
              "    <tr>\n",
              "      <th>1</th>\n",
              "      <td>Decision Tree Classifier</td>\n",
              "      <td>0.861386</td>\n",
              "      <td>0.805556</td>\n",
              "      <td>0.832536</td>\n",
              "      <td>0.825</td>\n",
              "    </tr>\n",
              "    <tr>\n",
              "      <th>2</th>\n",
              "      <td>Random Forest Classifier</td>\n",
              "      <td>0.878788</td>\n",
              "      <td>0.805556</td>\n",
              "      <td>0.840580</td>\n",
              "      <td>0.835</td>\n",
              "    </tr>\n",
              "    <tr>\n",
              "      <th>3</th>\n",
              "      <td>SVM rbf</td>\n",
              "      <td>0.876190</td>\n",
              "      <td>0.851852</td>\n",
              "      <td>0.863850</td>\n",
              "      <td>0.855</td>\n",
              "    </tr>\n",
              "    <tr>\n",
              "      <th>4</th>\n",
              "      <td>Ada Boost</td>\n",
              "      <td>0.872549</td>\n",
              "      <td>0.824074</td>\n",
              "      <td>0.847619</td>\n",
              "      <td>0.840</td>\n",
              "    </tr>\n",
              "  </tbody>\n",
              "</table>\n",
              "</div>\n",
              "      <button class=\"colab-df-convert\" onclick=\"convertToInteractive('df-c9264b0c-3d19-48f8-aaf4-289d83e507e5')\"\n",
              "              title=\"Convert this dataframe to an interactive table.\"\n",
              "              style=\"display:none;\">\n",
              "        \n",
              "  <svg xmlns=\"http://www.w3.org/2000/svg\" height=\"24px\"viewBox=\"0 0 24 24\"\n",
              "       width=\"24px\">\n",
              "    <path d=\"M0 0h24v24H0V0z\" fill=\"none\"/>\n",
              "    <path d=\"M18.56 5.44l.94 2.06.94-2.06 2.06-.94-2.06-.94-.94-2.06-.94 2.06-2.06.94zm-11 1L8.5 8.5l.94-2.06 2.06-.94-2.06-.94L8.5 2.5l-.94 2.06-2.06.94zm10 10l.94 2.06.94-2.06 2.06-.94-2.06-.94-.94-2.06-.94 2.06-2.06.94z\"/><path d=\"M17.41 7.96l-1.37-1.37c-.4-.4-.92-.59-1.43-.59-.52 0-1.04.2-1.43.59L10.3 9.45l-7.72 7.72c-.78.78-.78 2.05 0 2.83L4 21.41c.39.39.9.59 1.41.59.51 0 1.02-.2 1.41-.59l7.78-7.78 2.81-2.81c.8-.78.8-2.07 0-2.86zM5.41 20L4 18.59l7.72-7.72 1.47 1.35L5.41 20z\"/>\n",
              "  </svg>\n",
              "      </button>\n",
              "      \n",
              "  <style>\n",
              "    .colab-df-container {\n",
              "      display:flex;\n",
              "      flex-wrap:wrap;\n",
              "      gap: 12px;\n",
              "    }\n",
              "\n",
              "    .colab-df-convert {\n",
              "      background-color: #E8F0FE;\n",
              "      border: none;\n",
              "      border-radius: 50%;\n",
              "      cursor: pointer;\n",
              "      display: none;\n",
              "      fill: #1967D2;\n",
              "      height: 32px;\n",
              "      padding: 0 0 0 0;\n",
              "      width: 32px;\n",
              "    }\n",
              "\n",
              "    .colab-df-convert:hover {\n",
              "      background-color: #E2EBFA;\n",
              "      box-shadow: 0px 1px 2px rgba(60, 64, 67, 0.3), 0px 1px 3px 1px rgba(60, 64, 67, 0.15);\n",
              "      fill: #174EA6;\n",
              "    }\n",
              "\n",
              "    [theme=dark] .colab-df-convert {\n",
              "      background-color: #3B4455;\n",
              "      fill: #D2E3FC;\n",
              "    }\n",
              "\n",
              "    [theme=dark] .colab-df-convert:hover {\n",
              "      background-color: #434B5C;\n",
              "      box-shadow: 0px 1px 3px 1px rgba(0, 0, 0, 0.15);\n",
              "      filter: drop-shadow(0px 1px 2px rgba(0, 0, 0, 0.3));\n",
              "      fill: #FFFFFF;\n",
              "    }\n",
              "  </style>\n",
              "\n",
              "      <script>\n",
              "        const buttonEl =\n",
              "          document.querySelector('#df-c9264b0c-3d19-48f8-aaf4-289d83e507e5 button.colab-df-convert');\n",
              "        buttonEl.style.display =\n",
              "          google.colab.kernel.accessAllowed ? 'block' : 'none';\n",
              "\n",
              "        async function convertToInteractive(key) {\n",
              "          const element = document.querySelector('#df-c9264b0c-3d19-48f8-aaf4-289d83e507e5');\n",
              "          const dataTable =\n",
              "            await google.colab.kernel.invokeFunction('convertToInteractive',\n",
              "                                                     [key], {});\n",
              "          if (!dataTable) return;\n",
              "\n",
              "          const docLinkHtml = 'Like what you see? Visit the ' +\n",
              "            '<a target=\"_blank\" href=https://colab.research.google.com/notebooks/data_table.ipynb>data table notebook</a>'\n",
              "            + ' to learn more about interactive tables.';\n",
              "          element.innerHTML = '';\n",
              "          dataTable['output_type'] = 'display_data';\n",
              "          await google.colab.output.renderOutput(dataTable, element);\n",
              "          const docLink = document.createElement('div');\n",
              "          docLink.innerHTML = docLinkHtml;\n",
              "          element.appendChild(docLink);\n",
              "        }\n",
              "      </script>\n",
              "    </div>\n",
              "  </div>\n",
              "  "
            ]
          },
          "metadata": {},
          "execution_count": 21
        }
      ]
    }
  ]
}