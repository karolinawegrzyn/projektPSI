{
  "nbformat": 4,
  "nbformat_minor": 0,
  "metadata": {
    "colab": {
      "name": "projekt_PSI.ipynb",
      "provenance": [],
      "authorship_tag": "ABX9TyODupaiUihr5OjMUoLempsf",
      "include_colab_link": true
    },
    "kernelspec": {
      "name": "python3",
      "display_name": "Python 3"
    },
    "language_info": {
      "name": "python"
    }
  },
  "cells": [
    {
      "cell_type": "markdown",
      "metadata": {
        "id": "view-in-github",
        "colab_type": "text"
      },
      "source": [
        "<a href=\"https://colab.research.google.com/github/karolinawegrzyn/projektPSI/blob/main/projekt_PSI.ipynb\" target=\"_parent\"><img src=\"https://colab.research.google.com/assets/colab-badge.svg\" alt=\"Open In Colab\"/></a>"
      ]
    },
    {
      "cell_type": "markdown",
      "source": [
        "# Przewidywanie czy uczeń pójdzie na studia\n",
        "# dataset: https://www.kaggle.com/datasets/saddamazyazy/go-to-college-dataset?select=data.csv\n"
      ],
      "metadata": {
        "id": "44Ru2j0AN6yS"
      }
    },
    {
      "cell_type": "code",
      "execution_count": 1,
      "metadata": {
        "id": "DpCNpfo4NxHm"
      },
      "outputs": [],
      "source": [
        "import numpy as np\n",
        "import pandas as pd\n",
        "import matplotlib.pyplot as plt\n",
        "import seaborn as sns"
      ]
    },
    {
      "cell_type": "markdown",
      "source": [
        "#Przetwarzanie danych\n",
        "\n"
      ],
      "metadata": {
        "id": "rH9lNDhQOVk8"
      }
    },
    {
      "cell_type": "code",
      "source": [
        "df = pd.read_csv('https://raw.githubusercontent.com/karolinawegrzyn/projektPSI/main/data.csv')\n",
        "df"
      ],
      "metadata": {
        "id": "twAZddRPOgPo",
        "colab": {
          "base_uri": "https://localhost:8080/",
          "height": 424
        },
        "outputId": "e3ca56d3-bc8d-4b79-9796-20e59e561762"
      },
      "execution_count": 2,
      "outputs": [
        {
          "output_type": "execute_result",
          "data": {
            "text/plain": [
              "    type_school school_accreditation  gender          interest residence  \\\n",
              "0      Academic                    A    Male   Less Interested     Urban   \n",
              "1      Academic                    A    Male   Less Interested     Urban   \n",
              "2      Academic                    B  Female   Very Interested     Urban   \n",
              "3    Vocational                    B    Male   Very Interested     Rural   \n",
              "4      Academic                    A  Female   Very Interested     Urban   \n",
              "..          ...                  ...     ...               ...       ...   \n",
              "995  Vocational                    A  Female   Very Interested     Rural   \n",
              "996    Academic                    B  Female   Less Interested     Rural   \n",
              "997  Vocational                    A    Male   Less Interested     Urban   \n",
              "998    Academic                    B    Male         Uncertain     Rural   \n",
              "999    Academic                    B    Male  Quiet Interested     Urban   \n",
              "\n",
              "     parent_age  parent_salary  house_area  average_grades  \\\n",
              "0            56        6950000        83.0           84.09   \n",
              "1            57        4410000        76.8           86.91   \n",
              "2            50        6500000        80.6           87.43   \n",
              "3            49        6600000        78.2           82.12   \n",
              "4            57        5250000        75.1           86.79   \n",
              "..          ...            ...         ...             ...   \n",
              "995          49        7420000        63.6           85.99   \n",
              "996          51        7480000        84.3           89.72   \n",
              "997          49        5550000        75.2           79.56   \n",
              "998          53        5840000       105.8           87.18   \n",
              "999          50        2940000        69.1           86.13   \n",
              "\n",
              "     parent_was_in_college  in_college  \n",
              "0                    False        True  \n",
              "1                    False        True  \n",
              "2                    False        True  \n",
              "3                     True        True  \n",
              "4                    False       False  \n",
              "..                     ...         ...  \n",
              "995                   True        True  \n",
              "996                   True        True  \n",
              "997                  False        True  \n",
              "998                   True        True  \n",
              "999                   True       False  \n",
              "\n",
              "[1000 rows x 11 columns]"
            ],
            "text/html": [
              "\n",
              "  <div id=\"df-976b410a-9ab3-4501-a46b-3b0f7e28d338\">\n",
              "    <div class=\"colab-df-container\">\n",
              "      <div>\n",
              "<style scoped>\n",
              "    .dataframe tbody tr th:only-of-type {\n",
              "        vertical-align: middle;\n",
              "    }\n",
              "\n",
              "    .dataframe tbody tr th {\n",
              "        vertical-align: top;\n",
              "    }\n",
              "\n",
              "    .dataframe thead th {\n",
              "        text-align: right;\n",
              "    }\n",
              "</style>\n",
              "<table border=\"1\" class=\"dataframe\">\n",
              "  <thead>\n",
              "    <tr style=\"text-align: right;\">\n",
              "      <th></th>\n",
              "      <th>type_school</th>\n",
              "      <th>school_accreditation</th>\n",
              "      <th>gender</th>\n",
              "      <th>interest</th>\n",
              "      <th>residence</th>\n",
              "      <th>parent_age</th>\n",
              "      <th>parent_salary</th>\n",
              "      <th>house_area</th>\n",
              "      <th>average_grades</th>\n",
              "      <th>parent_was_in_college</th>\n",
              "      <th>in_college</th>\n",
              "    </tr>\n",
              "  </thead>\n",
              "  <tbody>\n",
              "    <tr>\n",
              "      <th>0</th>\n",
              "      <td>Academic</td>\n",
              "      <td>A</td>\n",
              "      <td>Male</td>\n",
              "      <td>Less Interested</td>\n",
              "      <td>Urban</td>\n",
              "      <td>56</td>\n",
              "      <td>6950000</td>\n",
              "      <td>83.0</td>\n",
              "      <td>84.09</td>\n",
              "      <td>False</td>\n",
              "      <td>True</td>\n",
              "    </tr>\n",
              "    <tr>\n",
              "      <th>1</th>\n",
              "      <td>Academic</td>\n",
              "      <td>A</td>\n",
              "      <td>Male</td>\n",
              "      <td>Less Interested</td>\n",
              "      <td>Urban</td>\n",
              "      <td>57</td>\n",
              "      <td>4410000</td>\n",
              "      <td>76.8</td>\n",
              "      <td>86.91</td>\n",
              "      <td>False</td>\n",
              "      <td>True</td>\n",
              "    </tr>\n",
              "    <tr>\n",
              "      <th>2</th>\n",
              "      <td>Academic</td>\n",
              "      <td>B</td>\n",
              "      <td>Female</td>\n",
              "      <td>Very Interested</td>\n",
              "      <td>Urban</td>\n",
              "      <td>50</td>\n",
              "      <td>6500000</td>\n",
              "      <td>80.6</td>\n",
              "      <td>87.43</td>\n",
              "      <td>False</td>\n",
              "      <td>True</td>\n",
              "    </tr>\n",
              "    <tr>\n",
              "      <th>3</th>\n",
              "      <td>Vocational</td>\n",
              "      <td>B</td>\n",
              "      <td>Male</td>\n",
              "      <td>Very Interested</td>\n",
              "      <td>Rural</td>\n",
              "      <td>49</td>\n",
              "      <td>6600000</td>\n",
              "      <td>78.2</td>\n",
              "      <td>82.12</td>\n",
              "      <td>True</td>\n",
              "      <td>True</td>\n",
              "    </tr>\n",
              "    <tr>\n",
              "      <th>4</th>\n",
              "      <td>Academic</td>\n",
              "      <td>A</td>\n",
              "      <td>Female</td>\n",
              "      <td>Very Interested</td>\n",
              "      <td>Urban</td>\n",
              "      <td>57</td>\n",
              "      <td>5250000</td>\n",
              "      <td>75.1</td>\n",
              "      <td>86.79</td>\n",
              "      <td>False</td>\n",
              "      <td>False</td>\n",
              "    </tr>\n",
              "    <tr>\n",
              "      <th>...</th>\n",
              "      <td>...</td>\n",
              "      <td>...</td>\n",
              "      <td>...</td>\n",
              "      <td>...</td>\n",
              "      <td>...</td>\n",
              "      <td>...</td>\n",
              "      <td>...</td>\n",
              "      <td>...</td>\n",
              "      <td>...</td>\n",
              "      <td>...</td>\n",
              "      <td>...</td>\n",
              "    </tr>\n",
              "    <tr>\n",
              "      <th>995</th>\n",
              "      <td>Vocational</td>\n",
              "      <td>A</td>\n",
              "      <td>Female</td>\n",
              "      <td>Very Interested</td>\n",
              "      <td>Rural</td>\n",
              "      <td>49</td>\n",
              "      <td>7420000</td>\n",
              "      <td>63.6</td>\n",
              "      <td>85.99</td>\n",
              "      <td>True</td>\n",
              "      <td>True</td>\n",
              "    </tr>\n",
              "    <tr>\n",
              "      <th>996</th>\n",
              "      <td>Academic</td>\n",
              "      <td>B</td>\n",
              "      <td>Female</td>\n",
              "      <td>Less Interested</td>\n",
              "      <td>Rural</td>\n",
              "      <td>51</td>\n",
              "      <td>7480000</td>\n",
              "      <td>84.3</td>\n",
              "      <td>89.72</td>\n",
              "      <td>True</td>\n",
              "      <td>True</td>\n",
              "    </tr>\n",
              "    <tr>\n",
              "      <th>997</th>\n",
              "      <td>Vocational</td>\n",
              "      <td>A</td>\n",
              "      <td>Male</td>\n",
              "      <td>Less Interested</td>\n",
              "      <td>Urban</td>\n",
              "      <td>49</td>\n",
              "      <td>5550000</td>\n",
              "      <td>75.2</td>\n",
              "      <td>79.56</td>\n",
              "      <td>False</td>\n",
              "      <td>True</td>\n",
              "    </tr>\n",
              "    <tr>\n",
              "      <th>998</th>\n",
              "      <td>Academic</td>\n",
              "      <td>B</td>\n",
              "      <td>Male</td>\n",
              "      <td>Uncertain</td>\n",
              "      <td>Rural</td>\n",
              "      <td>53</td>\n",
              "      <td>5840000</td>\n",
              "      <td>105.8</td>\n",
              "      <td>87.18</td>\n",
              "      <td>True</td>\n",
              "      <td>True</td>\n",
              "    </tr>\n",
              "    <tr>\n",
              "      <th>999</th>\n",
              "      <td>Academic</td>\n",
              "      <td>B</td>\n",
              "      <td>Male</td>\n",
              "      <td>Quiet Interested</td>\n",
              "      <td>Urban</td>\n",
              "      <td>50</td>\n",
              "      <td>2940000</td>\n",
              "      <td>69.1</td>\n",
              "      <td>86.13</td>\n",
              "      <td>True</td>\n",
              "      <td>False</td>\n",
              "    </tr>\n",
              "  </tbody>\n",
              "</table>\n",
              "<p>1000 rows × 11 columns</p>\n",
              "</div>\n",
              "      <button class=\"colab-df-convert\" onclick=\"convertToInteractive('df-976b410a-9ab3-4501-a46b-3b0f7e28d338')\"\n",
              "              title=\"Convert this dataframe to an interactive table.\"\n",
              "              style=\"display:none;\">\n",
              "        \n",
              "  <svg xmlns=\"http://www.w3.org/2000/svg\" height=\"24px\"viewBox=\"0 0 24 24\"\n",
              "       width=\"24px\">\n",
              "    <path d=\"M0 0h24v24H0V0z\" fill=\"none\"/>\n",
              "    <path d=\"M18.56 5.44l.94 2.06.94-2.06 2.06-.94-2.06-.94-.94-2.06-.94 2.06-2.06.94zm-11 1L8.5 8.5l.94-2.06 2.06-.94-2.06-.94L8.5 2.5l-.94 2.06-2.06.94zm10 10l.94 2.06.94-2.06 2.06-.94-2.06-.94-.94-2.06-.94 2.06-2.06.94z\"/><path d=\"M17.41 7.96l-1.37-1.37c-.4-.4-.92-.59-1.43-.59-.52 0-1.04.2-1.43.59L10.3 9.45l-7.72 7.72c-.78.78-.78 2.05 0 2.83L4 21.41c.39.39.9.59 1.41.59.51 0 1.02-.2 1.41-.59l7.78-7.78 2.81-2.81c.8-.78.8-2.07 0-2.86zM5.41 20L4 18.59l7.72-7.72 1.47 1.35L5.41 20z\"/>\n",
              "  </svg>\n",
              "      </button>\n",
              "      \n",
              "  <style>\n",
              "    .colab-df-container {\n",
              "      display:flex;\n",
              "      flex-wrap:wrap;\n",
              "      gap: 12px;\n",
              "    }\n",
              "\n",
              "    .colab-df-convert {\n",
              "      background-color: #E8F0FE;\n",
              "      border: none;\n",
              "      border-radius: 50%;\n",
              "      cursor: pointer;\n",
              "      display: none;\n",
              "      fill: #1967D2;\n",
              "      height: 32px;\n",
              "      padding: 0 0 0 0;\n",
              "      width: 32px;\n",
              "    }\n",
              "\n",
              "    .colab-df-convert:hover {\n",
              "      background-color: #E2EBFA;\n",
              "      box-shadow: 0px 1px 2px rgba(60, 64, 67, 0.3), 0px 1px 3px 1px rgba(60, 64, 67, 0.15);\n",
              "      fill: #174EA6;\n",
              "    }\n",
              "\n",
              "    [theme=dark] .colab-df-convert {\n",
              "      background-color: #3B4455;\n",
              "      fill: #D2E3FC;\n",
              "    }\n",
              "\n",
              "    [theme=dark] .colab-df-convert:hover {\n",
              "      background-color: #434B5C;\n",
              "      box-shadow: 0px 1px 3px 1px rgba(0, 0, 0, 0.15);\n",
              "      filter: drop-shadow(0px 1px 2px rgba(0, 0, 0, 0.3));\n",
              "      fill: #FFFFFF;\n",
              "    }\n",
              "  </style>\n",
              "\n",
              "      <script>\n",
              "        const buttonEl =\n",
              "          document.querySelector('#df-976b410a-9ab3-4501-a46b-3b0f7e28d338 button.colab-df-convert');\n",
              "        buttonEl.style.display =\n",
              "          google.colab.kernel.accessAllowed ? 'block' : 'none';\n",
              "\n",
              "        async function convertToInteractive(key) {\n",
              "          const element = document.querySelector('#df-976b410a-9ab3-4501-a46b-3b0f7e28d338');\n",
              "          const dataTable =\n",
              "            await google.colab.kernel.invokeFunction('convertToInteractive',\n",
              "                                                     [key], {});\n",
              "          if (!dataTable) return;\n",
              "\n",
              "          const docLinkHtml = 'Like what you see? Visit the ' +\n",
              "            '<a target=\"_blank\" href=https://colab.research.google.com/notebooks/data_table.ipynb>data table notebook</a>'\n",
              "            + ' to learn more about interactive tables.';\n",
              "          element.innerHTML = '';\n",
              "          dataTable['output_type'] = 'display_data';\n",
              "          await google.colab.output.renderOutput(dataTable, element);\n",
              "          const docLink = document.createElement('div');\n",
              "          docLink.innerHTML = docLinkHtml;\n",
              "          element.appendChild(docLink);\n",
              "        }\n",
              "      </script>\n",
              "    </div>\n",
              "  </div>\n",
              "  "
            ]
          },
          "metadata": {},
          "execution_count": 2
        }
      ]
    },
    {
      "cell_type": "code",
      "source": [
        "df.info()"
      ],
      "metadata": {
        "id": "N0ktEuQzPjL-",
        "colab": {
          "base_uri": "https://localhost:8080/"
        },
        "outputId": "4d6539cc-f7ae-43d1-82b7-4960112f31f1"
      },
      "execution_count": 3,
      "outputs": [
        {
          "output_type": "stream",
          "name": "stdout",
          "text": [
            "<class 'pandas.core.frame.DataFrame'>\n",
            "RangeIndex: 1000 entries, 0 to 999\n",
            "Data columns (total 11 columns):\n",
            " #   Column                 Non-Null Count  Dtype  \n",
            "---  ------                 --------------  -----  \n",
            " 0   type_school            1000 non-null   object \n",
            " 1   school_accreditation   1000 non-null   object \n",
            " 2   gender                 1000 non-null   object \n",
            " 3   interest               1000 non-null   object \n",
            " 4   residence              1000 non-null   object \n",
            " 5   parent_age             1000 non-null   int64  \n",
            " 6   parent_salary          1000 non-null   int64  \n",
            " 7   house_area             1000 non-null   float64\n",
            " 8   average_grades         1000 non-null   float64\n",
            " 9   parent_was_in_college  1000 non-null   bool   \n",
            " 10  in_college             1000 non-null   bool   \n",
            "dtypes: bool(2), float64(2), int64(2), object(5)\n",
            "memory usage: 72.4+ KB\n"
          ]
        }
      ]
    },
    {
      "cell_type": "markdown",
      "source": [
        "\n",
        "Kolumny:\n",
        "- type_school - typ szkoły do której uczęszcza uczeń\n",
        "- school_accreditation - jakość szkoły (A lub B, A jest lepsze od B)\n",
        "- gender - płeć\n",
        "- interest - jak zainteresowany jest uczeń w pójście na studia\n",
        "- residence - rodzaj zamieszkania\n",
        "- parent_age - wiek rodziców\n",
        "- parent_salary - zarobki rodziców\n",
        "- house_area - wielkość domu rodzinnego w metrach kwadratowych\n",
        "- average_grades - średnia ocen\n",
        "- parent_was_in_college - czy rodzic był na studiach\n",
        "- in_college - czy na studiach\n"
      ],
      "metadata": {
        "id": "zs8ker8IQs1j"
      }
    },
    {
      "cell_type": "markdown",
      "source": [
        "Jak widzimy nie ma w naszym datasecie missing data, jednak musimy zmienić część danych na numeryczne"
      ],
      "metadata": {
        "id": "H-FJhPQ0J8ix"
      }
    },
    {
      "cell_type": "code",
      "source": [
        "df['type_school'].value_counts().plot(kind='bar')\n",
        "plt.show()\n",
        "\n",
        "df['type_school'] = df['type_school'].replace({ 'Academic': 1, 'Vocational': 2})"
      ],
      "metadata": {
        "id": "Bws-l60VB6E9",
        "colab": {
          "base_uri": "https://localhost:8080/",
          "height": 307
        },
        "outputId": "061283b0-22ec-4878-d002-87d4e7e1accb"
      },
      "execution_count": 4,
      "outputs": [
        {
          "output_type": "display_data",
          "data": {
            "text/plain": [
              "<Figure size 432x288 with 1 Axes>"
            ],
            "image/png": "[encoded data removed]"
          },
          "metadata": {
            "needs_background": "light"
          }
        }
      ]
    },
    {
      "cell_type": "code",
      "source": [
        "df['school_accreditation'].value_counts().plot(kind='bar')\n",
        "plt.show()\n",
        "\n",
        "df['school_accreditation'] = df['school_accreditation'].replace({'B' : 1, 'A': 2})"
      ],
      "metadata": {
        "id": "6n9_wIR3GL0P",
        "colab": {
          "base_uri": "https://localhost:8080/",
          "height": 262
        },
        "outputId": "5e0e6866-ecbd-41d2-844e-fe5f080c4736"
      },
      "execution_count": 5,
      "outputs": [
        {
          "output_type": "display_data",
          "data": {
            "text/plain": [
              "<Figure size 432x288 with 1 Axes>"
            ],
            "image/png": "[encoded data removed]"
          },
          "metadata": {
            "needs_background": "light"
          }
        }
      ]
    },
    {
      "cell_type": "code",
      "source": [
        "df['gender'].value_counts().plot(kind='bar')\n",
        "plt.show()\n",
        "\n",
        "df['gender'] = df['gender'].replace({'Male': 1, 'Female': 2})"
      ],
      "metadata": {
        "id": "q9n3UAPyGoRB",
        "colab": {
          "base_uri": "https://localhost:8080/",
          "height": 291
        },
        "outputId": "074a4f85-d929-4683-83b4-225d4437dfb2"
      },
      "execution_count": 6,
      "outputs": [
        {
          "output_type": "display_data",
          "data": {
            "text/plain": [
              "<Figure size 432x288 with 1 Axes>"
            ],
            "image/png": "[encoded data removed]"
          },
          "metadata": {
            "needs_background": "light"
          }
        }
      ]
    },
    {
      "cell_type": "code",
      "source": [
        "df['interest'].value_counts().plot(kind='bar')\n",
        "plt.show()\n",
        "\n",
        "df['interest'] = df['interest'].replace({'Not Interested': 1, 'Less Interested': 2, 'Uncertain' : 3, 'Quiet Interested': 4, 'Very Interested': 5})"
      ],
      "metadata": {
        "id": "dAiUytkAH5tl",
        "colab": {
          "base_uri": "https://localhost:8080/",
          "height": 336
        },
        "outputId": "40db3e07-1a91-4d62-b364-47d67c80cef9"
      },
      "execution_count": 7,
      "outputs": [
        {
          "output_type": "display_data",
          "data": {
            "text/plain": [
              "<Figure size 432x288 with 1 Axes>"
            ],
            "image/png": "[encoded data removed]"
          },
          "metadata": {
            "needs_background": "light"
          }
        }
      ]
    },
    {
      "cell_type": "code",
      "source": [
        "df['residence'].value_counts().plot(kind='bar')\n",
        "plt.show()\n",
        "\n",
        "df['residence'] = df['residence'].replace({'Urban': 1, 'Rural': 2})"
      ],
      "metadata": {
        "id": "KzpInbj3JLxV",
        "colab": {
          "base_uri": "https://localhost:8080/",
          "height": 286
        },
        "outputId": "6fdbf1ac-9b21-4cf4-9aae-0b577fecbe5e"
      },
      "execution_count": 8,
      "outputs": [
        {
          "output_type": "display_data",
          "data": {
            "text/plain": [
              "<Figure size 432x288 with 1 Axes>"
            ],
            "image/png": "[encoded data removed]"
          },
          "metadata": {
            "needs_background": "light"
          }
        }
      ]
    },
    {
      "cell_type": "code",
      "source": [
        "df['parent_was_in_college'].value_counts().plot(kind='bar')\n",
        "plt.show()\n",
        "\n",
        "df['parent_was_in_college'] = df['parent_was_in_college'].replace({True: 1, False: 0})"
      ],
      "metadata": {
        "id": "eTMzC-2dJue0",
        "colab": {
          "base_uri": "https://localhost:8080/",
          "height": 262
        },
        "outputId": "75734685-8f99-455b-8e27-8348e3dcfee3"
      },
      "execution_count": 10,
      "outputs": [
        {
          "output_type": "display_data",
          "data": {
            "text/plain": [
              "<Figure size 432x288 with 1 Axes>"
            ],
            "image/png": "[encoded data removed]"
          },
          "metadata": {
            "needs_background": "light"
          }
        }
      ]
    },
    {
      "cell_type": "code",
      "source": [
        "df['in_college'].value_counts().plot(kind='bar')\n",
        "plt.show()\n",
        "\n",
        "df['in_college'] = df['in_college'].replace({True: 1, False: 0})"
      ],
      "metadata": {
        "id": "WpuAwbsXJ5h8",
        "colab": {
          "base_uri": "https://localhost:8080/",
          "height": 281
        },
        "outputId": "1cf7895f-0a99-47da-dd4b-bea220ce4993"
      },
      "execution_count": 11,
      "outputs": [
        {
          "output_type": "display_data",
          "data": {
            "text/plain": [
              "<Figure size 432x288 with 1 Axes>"
            ],
            "image/png": "[encoded data removed]"
          },
          "metadata": {
            "needs_background": "light"
          }
        }
      ]
    },
    {
      "cell_type": "code",
      "source": [
        "df.info()"
      ],
      "metadata": {
        "id": "lVJRoh9iKAKY",
        "colab": {
          "base_uri": "https://localhost:8080/"
        },
        "outputId": "195fd5bf-d976-4d6d-99e1-d4ec80887b75"
      },
      "execution_count": 12,
      "outputs": [
        {
          "output_type": "stream",
          "name": "stdout",
          "text": [
            "<class 'pandas.core.frame.DataFrame'>\n",
            "RangeIndex: 1000 entries, 0 to 999\n",
            "Data columns (total 11 columns):\n",
            " #   Column                 Non-Null Count  Dtype  \n",
            "---  ------                 --------------  -----  \n",
            " 0   type_school            1000 non-null   int64  \n",
            " 1   school_accreditation   1000 non-null   int64  \n",
            " 2   gender                 1000 non-null   int64  \n",
            " 3   interest               1000 non-null   int64  \n",
            " 4   residence              1000 non-null   int64  \n",
            " 5   parent_age             1000 non-null   int64  \n",
            " 6   parent_salary          1000 non-null   int64  \n",
            " 7   house_area             1000 non-null   float64\n",
            " 8   average_grades         1000 non-null   float64\n",
            " 9   parent_was_in_college  1000 non-null   int64  \n",
            " 10  in_college             1000 non-null   int64  \n",
            "dtypes: float64(2), int64(9)\n",
            "memory usage: 86.1 KB\n"
          ]
        }
      ]
    },
    {
      "cell_type": "markdown",
      "source": [
        "Jak widać wszędzie teraz mamy dane numeryczne"
      ],
      "metadata": {
        "id": "XYv6XXV3LCwx"
      }
    },
    {
      "cell_type": "markdown",
      "source": [
        "#Modelowanie"
      ],
      "metadata": {
        "id": "d3hGaZPFLO2K"
      }
    },
    {
      "cell_type": "markdown",
      "source": [
        "\n",
        "Dzielimy dane na treningowe i testowe"
      ],
      "metadata": {
        "id": "vxjp46kqNCAC"
      }
    },
    {
      "cell_type": "code",
      "source": [
        "from sklearn.model_selection import train_test_split\n",
        "X = df.drop('in_college', axis=1)\n",
        "Y = df.in_college\n",
        "\n",
        "X_train, X_test, y_train, y_test = train_test_split(X, Y, test_size=0.2)"
      ],
      "metadata": {
        "id": "YbWKCQjXMR0M"
      },
      "execution_count": 13,
      "outputs": []
    },
    {
      "cell_type": "code",
      "source": [
        "from sklearn.model_selection import StratifiedKFold\n",
        "\n",
        "kfold = StratifiedKFold(n_splits=5)"
      ],
      "metadata": {
        "id": "hWBUDAR2ONCc"
      },
      "execution_count": 14,
      "outputs": []
    },
    {
      "cell_type": "code",
      "source": [
        "from sklearn.linear_model import LogisticRegression\n",
        "from sklearn.model_selection import GridSearchCV\n",
        "from imblearn.pipeline import Pipeline\n",
        "from sklearn.preprocessing import StandardScaler\n",
        "from sklearn.tree import DecisionTreeClassifier\n",
        "from sklearn.ensemble import RandomForestClassifier\n",
        "from sklearn.svm import SVC\n",
        "from sklearn.ensemble import AdaBoostClassifier\n",
        "from sklearn.neighbors import KNeighborsClassifier"
      ],
      "metadata": {
        "id": "0PKJVcuJRivu"
      },
      "execution_count": 15,
      "outputs": []
    },
    {
      "cell_type": "markdown",
      "source": [
        "Logistic Regression"
      ],
      "metadata": {
        "id": "1UqLTqsdQfQX"
      }
    },
    {
      "cell_type": "code",
      "source": [
        "pipe = Pipeline([('preprocessing', StandardScaler()), ('classifier', LogisticRegression())])\n",
        "\n",
        "param_grid = {\n",
        "    'preprocessing': [StandardScaler(), None],\n",
        "    'classifier__C': [0.01, 0.1, 1, 10, 100],\n",
        "}\n",
        "\n",
        "grid_1 = GridSearchCV(pipe, param_grid, cv=kfold)\n",
        "grid_1.fit(X_train, y_train)\n",
        "grid_1.best_params_"
      ],
      "metadata": {
        "colab": {
          "base_uri": "https://localhost:8080/"
        },
        "id": "T8VKME8dQhiS",
        "outputId": "7d10f76a-cfe2-4792-a6ea-5e6500981f9d"
      },
      "execution_count": 16,
      "outputs": [
        {
          "output_type": "execute_result",
          "data": {
            "text/plain": [
              "{'classifier__C': 1, 'preprocessing': StandardScaler()}"
            ]
          },
          "metadata": {},
          "execution_count": 16
        }
      ]
    },
    {
      "cell_type": "markdown",
      "source": [
        "Decision Tree Classifier"
      ],
      "metadata": {
        "id": "xgKDoXhWSjMY"
      }
    },
    {
      "cell_type": "code",
      "source": [
        "pipe = Pipeline([('preprocessing', StandardScaler()), ('classifier', DecisionTreeClassifier())])\n",
        "\n",
        "param_grid = {\n",
        "            'preprocessing': [StandardScaler(), None],\n",
        "            'classifier__max_depth': [1, 5, 10, 15, 20, 40, 70],\n",
        "            'classifier__max_leaf_nodes': [20, 30, 40, 50, 60, 70],\n",
        "            'classifier__criterion': ['entropy', 'gini'],\n",
        "}\n",
        "\n",
        "grid_2 = GridSearchCV(pipe, param_grid, cv=kfold, return_train_score=True)\n",
        "grid_2.fit(X_train, y_train)\n",
        "grid_2.best_params_"
      ],
      "metadata": {
        "colab": {
          "base_uri": "https://localhost:8080/"
        },
        "id": "XtqOaGroWT87",
        "outputId": "1f8d318e-0112-4b66-96c6-e6562536fb83"
      },
      "execution_count": 17,
      "outputs": [
        {
          "output_type": "execute_result",
          "data": {
            "text/plain": [
              "{'classifier__criterion': 'entropy',\n",
              " 'classifier__max_depth': 10,\n",
              " 'classifier__max_leaf_nodes': 70,\n",
              " 'preprocessing': StandardScaler()}"
            ]
          },
          "metadata": {},
          "execution_count": 17
        }
      ]
    },
    {
      "cell_type": "markdown",
      "source": [
        "Random Forest Classifier"
      ],
      "metadata": {
        "id": "dMbMjC-rZc-C"
      }
    },
    {
      "cell_type": "code",
      "source": [
        "pipe = Pipeline([('preprocessing', StandardScaler()), ('classifier', RandomForestClassifier(n_jobs=-1))])\n",
        "\n",
        "param_grid = {\n",
        "            'preprocessing': [StandardScaler(), None],\n",
        "            'classifier__n_estimators' : [1, 5, 10, 50, 100, 200],\n",
        "            'classifier__max_leaf_nodes': [20, 30, 40, 50, 60, 70],\n",
        "}\n",
        "\n",
        "grid_3 = GridSearchCV(pipe, param_grid, cv=kfold, return_train_score=True)\n",
        "grid_3.fit(X_train, y_train)\n",
        "grid_3.best_params_"
      ],
      "metadata": {
        "id": "x-XbRMUpZ9ra",
        "colab": {
          "base_uri": "https://localhost:8080/"
        },
        "outputId": "42fcc2e4-722b-4dee-8765-e5a2aa020d3f"
      },
      "execution_count": 18,
      "outputs": [
        {
          "output_type": "execute_result",
          "data": {
            "text/plain": [
              "{'classifier__max_leaf_nodes': 70,\n",
              " 'classifier__n_estimators': 200,\n",
              " 'preprocessing': None}"
            ]
          },
          "metadata": {},
          "execution_count": 18
        }
      ]
    },
    {
      "cell_type": "markdown",
      "source": [
        "SVM z jądrem rbf"
      ],
      "metadata": {
        "id": "kd4oUqb-c5CQ"
      }
    },
    {
      "cell_type": "code",
      "source": [
        "pipe = Pipeline([('preprocessing', StandardScaler()), ('classifier', SVC(kernel='rbf'))])\n",
        "\n",
        "param_grid = {\n",
        "            'preprocessing': [StandardScaler(), None],\n",
        "            'classifier__C': [00.1, 0.1, 1, 10, 100],\n",
        "            'classifier__gamma': [0.01, 0.1, 1, 10, 100],\n",
        "}\n",
        "\n",
        "grid_4 = GridSearchCV(pipe, param_grid, cv=kfold, return_train_score=True)\n",
        "grid_4.fit(X_train, y_train)\n",
        "grid_4.best_params_"
      ],
      "metadata": {
        "id": "5XecSRjf1V-h",
        "colab": {
          "base_uri": "https://localhost:8080/"
        },
        "outputId": "17d83ddb-0f27-40bf-9515-255834e7b416"
      },
      "execution_count": 19,
      "outputs": [
        {
          "output_type": "execute_result",
          "data": {
            "text/plain": [
              "{'classifier__C': 100,\n",
              " 'classifier__gamma': 0.01,\n",
              " 'preprocessing': StandardScaler()}"
            ]
          },
          "metadata": {},
          "execution_count": 19
        }
      ]
    },
    {
      "cell_type": "markdown",
      "source": [
        "Ada Boost"
      ],
      "metadata": {
        "id": "TBdjKWv0I0Rh"
      }
    },
    {
      "cell_type": "code",
      "source": [
        "pipe = Pipeline([('preprocessing', StandardScaler()), ('classifier', AdaBoostClassifier())])\n",
        "\n",
        "param_grid = {\n",
        "            'preprocessing': [StandardScaler(), None],\n",
        "            'classifier__n_estimators' : [5, 10, 50, 100, 150, 200],\n",
        "            'classifier__learning_rate' : [0.0001, 0.001, 0.01, 0.1, 0.5],\n",
        "}\n",
        "\n",
        "grid_5 = GridSearchCV(pipe, param_grid, cv=kfold, return_train_score=True)\n",
        "grid_5.fit(X_train, y_train)\n",
        "grid_5.best_params_"
      ],
      "metadata": {
        "id": "UVNapNGDI7xa",
        "colab": {
          "base_uri": "https://localhost:8080/"
        },
        "outputId": "a0d97922-2aa9-4836-d64a-53c6a0d35105"
      },
      "execution_count": 20,
      "outputs": [
        {
          "output_type": "execute_result",
          "data": {
            "text/plain": [
              "{'classifier__learning_rate': 0.5,\n",
              " 'classifier__n_estimators': 200,\n",
              " 'preprocessing': StandardScaler()}"
            ]
          },
          "metadata": {},
          "execution_count": 20
        }
      ]
    },
    {
      "cell_type": "markdown",
      "source": [
        "\n",
        "K Neighbors Classifier\n"
      ],
      "metadata": {
        "id": "x_fyif1jVFlD"
      }
    },
    {
      "cell_type": "code",
      "source": [
        "pipe = Pipeline([('preprocessing', StandardScaler()), ('classifier', KNeighborsClassifier())])\n",
        "\n",
        "param_grid = {\n",
        "            'preprocessing': [StandardScaler(), None],\n",
        "            'classifier__n_neighbors': [1, 2, 4, 6],\n",
        "            'classifier__p': [1, 2, 4, 6],\n",
        "}\n",
        "\n",
        "grid_6 = GridSearchCV(pipe, param_grid, cv=kfold, return_train_score=True)\n",
        "grid_6.fit(X_train, y_train)\n",
        "grid_6.best_params_"
      ],
      "metadata": {
        "id": "LdqyHAjYf_aU",
        "colab": {
          "base_uri": "https://localhost:8080/"
        },
        "outputId": "b4a4a46c-4b87-4fe3-de52-aa2f47db7454"
      },
      "execution_count": 21,
      "outputs": [
        {
          "output_type": "execute_result",
          "data": {
            "text/plain": [
              "{'classifier__n_neighbors': 4,\n",
              " 'classifier__p': 1,\n",
              " 'preprocessing': StandardScaler()}"
            ]
          },
          "metadata": {},
          "execution_count": 21
        }
      ]
    },
    {
      "cell_type": "markdown",
      "source": [
        "#Porównanie modeli"
      ],
      "metadata": {
        "id": "N27vfBgucn_t"
      }
    },
    {
      "cell_type": "code",
      "source": [
        "from sklearn import  metrics\n",
        "\n",
        "\n",
        "models = []\n",
        "models.append(('Logistic Regression', grid_1.best_estimator_))\n",
        "models.append(('Decision Tree Classifier',grid_2.best_estimator_))\n",
        "models.append(('Random Forest Classifier', grid_3.best_estimator_))\n",
        "models.append(('SVM rbf', grid_4.best_estimator_))\n",
        "models.append(('Ada Boost', grid_5.best_estimator_))\n",
        "models.append(('K Neighbors Classifier', grid_6.best_estimator_))\n",
        "\n",
        "\n",
        "precision_score = []\n",
        "recall_score = []\n",
        "f1_score = []\n",
        "accuracy_score = []\n",
        "for name, model in models:\n",
        "    precision_score.append(metrics.precision_score(y_test, model.predict(X_test)))\n",
        "    recall_score.append(metrics.recall_score(y_test, model.predict(X_test)))\n",
        "    f1_score.append( metrics.f1_score(y_test, model.predict(X_test)))\n",
        "    accuracy_score.append(metrics.accuracy_score(y_test, model.predict(X_test)))"
      ],
      "metadata": {
        "id": "90bo-39xXM5c"
      },
      "execution_count": 22,
      "outputs": []
    },
    {
      "cell_type": "code",
      "source": [
        "import pandas as pd\n",
        "d = {'precision_score': precision_score, \n",
        "     'recall_score': recall_score, \n",
        "     'f1_score': f1_score,\n",
        "     'accuracy_score' : accuracy_score\n",
        "    }\n",
        "dataframe = pd.DataFrame(data=d)\n",
        "dataframe.insert(loc=0, column='Method', value=['Logistic Regression', 'Decision Tree Classifier', 'Random Forest Classifier', 'SVM rbf', 'Ada Boost', 'K Neighbors Classifier'])\n",
        "dataframe"
      ],
      "metadata": {
        "id": "iNVtxYGQXOI3",
        "colab": {
          "base_uri": "https://localhost:8080/",
          "height": 238
        },
        "outputId": "6b15ecde-012e-4678-89dd-0ac739c9ea37"
      },
      "execution_count": 23,
      "outputs": [
        {
          "output_type": "execute_result",
          "data": {
            "text/plain": [
              "                     Method  precision_score  recall_score  f1_score  \\\n",
              "0       Logistic Regression         0.826087      0.922330  0.871560   \n",
              "1  Decision Tree Classifier         0.854167      0.796117  0.824121   \n",
              "2  Random Forest Classifier         0.867925      0.893204  0.880383   \n",
              "3                   SVM rbf         0.879630      0.922330  0.900474   \n",
              "4                 Ada Boost         0.828829      0.893204  0.859813   \n",
              "5    K Neighbors Classifier         0.918605      0.766990  0.835979   \n",
              "\n",
              "   accuracy_score  \n",
              "0           0.860  \n",
              "1           0.825  \n",
              "2           0.875  \n",
              "3           0.895  \n",
              "4           0.850  \n",
              "5           0.845  "
            ],
            "text/html": [
              "\n",
              "  <div id=\"df-785e5c95-d82f-430d-b2bd-f40359cb824f\">\n",
              "    <div class=\"colab-df-container\">\n",
              "      <div>\n",
              "<style scoped>\n",
              "    .dataframe tbody tr th:only-of-type {\n",
              "        vertical-align: middle;\n",
              "    }\n",
              "\n",
              "    .dataframe tbody tr th {\n",
              "        vertical-align: top;\n",
              "    }\n",
              "\n",
              "    .dataframe thead th {\n",
              "        text-align: right;\n",
              "    }\n",
              "</style>\n",
              "<table border=\"1\" class=\"dataframe\">\n",
              "  <thead>\n",
              "    <tr style=\"text-align: right;\">\n",
              "      <th></th>\n",
              "      <th>Method</th>\n",
              "      <th>precision_score</th>\n",
              "      <th>recall_score</th>\n",
              "      <th>f1_score</th>\n",
              "      <th>accuracy_score</th>\n",
              "    </tr>\n",
              "  </thead>\n",
              "  <tbody>\n",
              "    <tr>\n",
              "      <th>0</th>\n",
              "      <td>Logistic Regression</td>\n",
              "      <td>0.826087</td>\n",
              "      <td>0.922330</td>\n",
              "      <td>0.871560</td>\n",
              "      <td>0.860</td>\n",
              "    </tr>\n",
              "    <tr>\n",
              "      <th>1</th>\n",
              "      <td>Decision Tree Classifier</td>\n",
              "      <td>0.854167</td>\n",
              "      <td>0.796117</td>\n",
              "      <td>0.824121</td>\n",
              "      <td>0.825</td>\n",
              "    </tr>\n",
              "    <tr>\n",
              "      <th>2</th>\n",
              "      <td>Random Forest Classifier</td>\n",
              "      <td>0.867925</td>\n",
              "      <td>0.893204</td>\n",
              "      <td>0.880383</td>\n",
              "      <td>0.875</td>\n",
              "    </tr>\n",
              "    <tr>\n",
              "      <th>3</th>\n",
              "      <td>SVM rbf</td>\n",
              "      <td>0.879630</td>\n",
              "      <td>0.922330</td>\n",
              "      <td>0.900474</td>\n",
              "      <td>0.895</td>\n",
              "    </tr>\n",
              "    <tr>\n",
              "      <th>4</th>\n",
              "      <td>Ada Boost</td>\n",
              "      <td>0.828829</td>\n",
              "      <td>0.893204</td>\n",
              "      <td>0.859813</td>\n",
              "      <td>0.850</td>\n",
              "    </tr>\n",
              "    <tr>\n",
              "      <th>5</th>\n",
              "      <td>K Neighbors Classifier</td>\n",
              "      <td>0.918605</td>\n",
              "      <td>0.766990</td>\n",
              "      <td>0.835979</td>\n",
              "      <td>0.845</td>\n",
              "    </tr>\n",
              "  </tbody>\n",
              "</table>\n",
              "</div>\n",
              "      <button class=\"colab-df-convert\" onclick=\"convertToInteractive('df-785e5c95-d82f-430d-b2bd-f40359cb824f')\"\n",
              "              title=\"Convert this dataframe to an interactive table.\"\n",
              "              style=\"display:none;\">\n",
              "        \n",
              "  <svg xmlns=\"http://www.w3.org/2000/svg\" height=\"24px\"viewBox=\"0 0 24 24\"\n",
              "       width=\"24px\">\n",
              "    <path d=\"M0 0h24v24H0V0z\" fill=\"none\"/>\n",
              "    <path d=\"M18.56 5.44l.94 2.06.94-2.06 2.06-.94-2.06-.94-.94-2.06-.94 2.06-2.06.94zm-11 1L8.5 8.5l.94-2.06 2.06-.94-2.06-.94L8.5 2.5l-.94 2.06-2.06.94zm10 10l.94 2.06.94-2.06 2.06-.94-2.06-.94-.94-2.06-.94 2.06-2.06.94z\"/><path d=\"M17.41 7.96l-1.37-1.37c-.4-.4-.92-.59-1.43-.59-.52 0-1.04.2-1.43.59L10.3 9.45l-7.72 7.72c-.78.78-.78 2.05 0 2.83L4 21.41c.39.39.9.59 1.41.59.51 0 1.02-.2 1.41-.59l7.78-7.78 2.81-2.81c.8-.78.8-2.07 0-2.86zM5.41 20L4 18.59l7.72-7.72 1.47 1.35L5.41 20z\"/>\n",
              "  </svg>\n",
              "      </button>\n",
              "      \n",
              "  <style>\n",
              "    .colab-df-container {\n",
              "      display:flex;\n",
              "      flex-wrap:wrap;\n",
              "      gap: 12px;\n",
              "    }\n",
              "\n",
              "    .colab-df-convert {\n",
              "      background-color: #E8F0FE;\n",
              "      border: none;\n",
              "      border-radius: 50%;\n",
              "      cursor: pointer;\n",
              "      display: none;\n",
              "      fill: #1967D2;\n",
              "      height: 32px;\n",
              "      padding: 0 0 0 0;\n",
              "      width: 32px;\n",
              "    }\n",
              "\n",
              "    .colab-df-convert:hover {\n",
              "      background-color: #E2EBFA;\n",
              "      box-shadow: 0px 1px 2px rgba(60, 64, 67, 0.3), 0px 1px 3px 1px rgba(60, 64, 67, 0.15);\n",
              "      fill: #174EA6;\n",
              "    }\n",
              "\n",
              "    [theme=dark] .colab-df-convert {\n",
              "      background-color: #3B4455;\n",
              "      fill: #D2E3FC;\n",
              "    }\n",
              "\n",
              "    [theme=dark] .colab-df-convert:hover {\n",
              "      background-color: #434B5C;\n",
              "      box-shadow: 0px 1px 3px 1px rgba(0, 0, 0, 0.15);\n",
              "      filter: drop-shadow(0px 1px 2px rgba(0, 0, 0, 0.3));\n",
              "      fill: #FFFFFF;\n",
              "    }\n",
              "  </style>\n",
              "\n",
              "      <script>\n",
              "        const buttonEl =\n",
              "          document.querySelector('#df-785e5c95-d82f-430d-b2bd-f40359cb824f button.colab-df-convert');\n",
              "        buttonEl.style.display =\n",
              "          google.colab.kernel.accessAllowed ? 'block' : 'none';\n",
              "\n",
              "        async function convertToInteractive(key) {\n",
              "          const element = document.querySelector('#df-785e5c95-d82f-430d-b2bd-f40359cb824f');\n",
              "          const dataTable =\n",
              "            await google.colab.kernel.invokeFunction('convertToInteractive',\n",
              "                                                     [key], {});\n",
              "          if (!dataTable) return;\n",
              "\n",
              "          const docLinkHtml = 'Like what you see? Visit the ' +\n",
              "            '<a target=\"_blank\" href=https://colab.research.google.com/notebooks/data_table.ipynb>data table notebook</a>'\n",
              "            + ' to learn more about interactive tables.';\n",
              "          element.innerHTML = '';\n",
              "          dataTable['output_type'] = 'display_data';\n",
              "          await google.colab.output.renderOutput(dataTable, element);\n",
              "          const docLink = document.createElement('div');\n",
              "          docLink.innerHTML = docLinkHtml;\n",
              "          element.appendChild(docLink);\n",
              "        }\n",
              "      </script>\n",
              "    </div>\n",
              "  </div>\n",
              "  "
            ]
          },
          "metadata": {},
          "execution_count": 23
        }
      ]
    },
    {
      "cell_type": "markdown",
      "source": [
        "#Sieć neuronowa"
      ],
      "metadata": {
        "id": "60n4o_5sdZnm"
      }
    },
    {
      "cell_type": "code",
      "source": [
        "import tensorflow as tf\n",
        "from tensorflow import keras\n",
        "print(tf.__version__)\n",
        "\n",
        "print(keras.__version__)"
      ],
      "metadata": {
        "colab": {
          "base_uri": "https://localhost:8080/"
        },
        "id": "E7w-w2U1dcjk",
        "outputId": "95f97d53-a02f-4c33-b489-46ca3670aa01"
      },
      "execution_count": 24,
      "outputs": [
        {
          "output_type": "stream",
          "name": "stdout",
          "text": [
            "2.8.2\n",
            "2.8.0\n"
          ]
        }
      ]
    },
    {
      "cell_type": "code",
      "source": [
        "from keras.models import Sequential\n",
        "from keras.layers import Dense\n",
        "\n",
        "from keras.callbacks import History\n",
        "from keras import backend\n",
        "\n",
        "backend.clear_session()\n",
        "\n",
        "history = History()\n",
        "model = Sequential()\n",
        "model.add(Dense(100,activation=\"sigmoid\", input_shape=(X_train.shape[1],)))\n",
        "model.add(Dense(50,activation=\"sigmoid\"))\n",
        "model.add(Dense(10,activation=\"sigmoid\"))\n",
        "model.add(Dense(1,activation=\"sigmoid\"))\n",
        "model.summary()"
      ],
      "metadata": {
        "colab": {
          "base_uri": "https://localhost:8080/"
        },
        "id": "8YVqVK_Jdy39",
        "outputId": "9bd54934-7c53-4c80-ca66-15127024b228"
      },
      "execution_count": 29,
      "outputs": [
        {
          "output_type": "stream",
          "name": "stdout",
          "text": [
            "Model: \"sequential\"\n",
            "_________________________________________________________________\n",
            " Layer (type)                Output Shape              Param #   \n",
            "=================================================================\n",
            " dense (Dense)               (None, 100)               1100      \n",
            "                                                                 \n",
            " dense_1 (Dense)             (None, 50)                5050      \n",
            "                                                                 \n",
            " dense_2 (Dense)             (None, 10)                510       \n",
            "                                                                 \n",
            " dense_3 (Dense)             (None, 1)                 11        \n",
            "                                                                 \n",
            "=================================================================\n",
            "Total params: 6,671\n",
            "Trainable params: 6,671\n",
            "Non-trainable params: 0\n",
            "_________________________________________________________________\n"
          ]
        }
      ]
    },
    {
      "cell_type": "code",
      "source": [
        "model.compile(loss=\"binary_crossentropy\", optimizer=\"Adam\", metrics=[\"accuracy\"])"
      ],
      "metadata": {
        "id": "mTmOC4CVeK9G"
      },
      "execution_count": 30,
      "outputs": []
    },
    {
      "cell_type": "code",
      "source": [
        "scaler = StandardScaler()\n",
        "X_train = scaler.fit_transform(X_train)\n",
        "X_test = scaler.fit_transform(X_test)\n",
        "\n",
        "history = model.fit(X_train, y_train, validation_data= (X_test, y_test), batch_size=32, epochs=100)"
      ],
      "metadata": {
        "colab": {
          "base_uri": "https://localhost:8080/"
        },
        "id": "eX_VMJDQeQzy",
        "outputId": "e2fe6fc3-5609-4982-d2f6-6b162ead046f"
      },
      "execution_count": 35,
      "outputs": [
        {
          "output_type": "stream",
          "name": "stdout",
          "text": [
            "Epoch 1/100\n",
            "25/25 [==============================] - 1s 10ms/step - loss: 0.6875 - accuracy: 0.5038 - val_loss: 0.6649 - val_accuracy: 0.5550\n",
            "Epoch 2/100\n",
            "25/25 [==============================] - 0s 4ms/step - loss: 0.6319 - accuracy: 0.7825 - val_loss: 0.5610 - val_accuracy: 0.8300\n",
            "Epoch 3/100\n",
            "25/25 [==============================] - 0s 4ms/step - loss: 0.4992 - accuracy: 0.8400 - val_loss: 0.4112 - val_accuracy: 0.8700\n",
            "Epoch 4/100\n",
            "25/25 [==============================] - 0s 4ms/step - loss: 0.4063 - accuracy: 0.8450 - val_loss: 0.3634 - val_accuracy: 0.8650\n",
            "Epoch 5/100\n",
            "25/25 [==============================] - 0s 4ms/step - loss: 0.3807 - accuracy: 0.8375 - val_loss: 0.3582 - val_accuracy: 0.8600\n",
            "Epoch 6/100\n",
            "25/25 [==============================] - 0s 4ms/step - loss: 0.3639 - accuracy: 0.8562 - val_loss: 0.3581 - val_accuracy: 0.8550\n",
            "Epoch 7/100\n",
            "25/25 [==============================] - 0s 4ms/step - loss: 0.3583 - accuracy: 0.8525 - val_loss: 0.3558 - val_accuracy: 0.8550\n",
            "Epoch 8/100\n",
            "25/25 [==============================] - 0s 4ms/step - loss: 0.3625 - accuracy: 0.8438 - val_loss: 0.3627 - val_accuracy: 0.8450\n",
            "Epoch 9/100\n",
            "25/25 [==============================] - 0s 4ms/step - loss: 0.3552 - accuracy: 0.8475 - val_loss: 0.3604 - val_accuracy: 0.8550\n",
            "Epoch 10/100\n",
            "25/25 [==============================] - 0s 4ms/step - loss: 0.3519 - accuracy: 0.8525 - val_loss: 0.3515 - val_accuracy: 0.8500\n",
            "Epoch 11/100\n",
            "25/25 [==============================] - 0s 4ms/step - loss: 0.3497 - accuracy: 0.8512 - val_loss: 0.3591 - val_accuracy: 0.8500\n",
            "Epoch 12/100\n",
            "25/25 [==============================] - 0s 4ms/step - loss: 0.3480 - accuracy: 0.8512 - val_loss: 0.3552 - val_accuracy: 0.8500\n",
            "Epoch 13/100\n",
            "25/25 [==============================] - 0s 4ms/step - loss: 0.3473 - accuracy: 0.8550 - val_loss: 0.3503 - val_accuracy: 0.8500\n",
            "Epoch 14/100\n",
            "25/25 [==============================] - 0s 4ms/step - loss: 0.3456 - accuracy: 0.8550 - val_loss: 0.3526 - val_accuracy: 0.8400\n",
            "Epoch 15/100\n",
            "25/25 [==============================] - 0s 4ms/step - loss: 0.3455 - accuracy: 0.8537 - val_loss: 0.3525 - val_accuracy: 0.8500\n",
            "Epoch 16/100\n",
            "25/25 [==============================] - 0s 4ms/step - loss: 0.3423 - accuracy: 0.8562 - val_loss: 0.3491 - val_accuracy: 0.8400\n",
            "Epoch 17/100\n",
            "25/25 [==============================] - 0s 4ms/step - loss: 0.3421 - accuracy: 0.8525 - val_loss: 0.3540 - val_accuracy: 0.8550\n",
            "Epoch 18/100\n",
            "25/25 [==============================] - 0s 4ms/step - loss: 0.3416 - accuracy: 0.8562 - val_loss: 0.3500 - val_accuracy: 0.8450\n",
            "Epoch 19/100\n",
            "25/25 [==============================] - 0s 4ms/step - loss: 0.3415 - accuracy: 0.8500 - val_loss: 0.3505 - val_accuracy: 0.8500\n",
            "Epoch 20/100\n",
            "25/25 [==============================] - 0s 4ms/step - loss: 0.3394 - accuracy: 0.8525 - val_loss: 0.3479 - val_accuracy: 0.8450\n",
            "Epoch 21/100\n",
            "25/25 [==============================] - 0s 4ms/step - loss: 0.3427 - accuracy: 0.8487 - val_loss: 0.3473 - val_accuracy: 0.8550\n",
            "Epoch 22/100\n",
            "25/25 [==============================] - 0s 5ms/step - loss: 0.3377 - accuracy: 0.8537 - val_loss: 0.3454 - val_accuracy: 0.8400\n",
            "Epoch 23/100\n",
            "25/25 [==============================] - 0s 4ms/step - loss: 0.3389 - accuracy: 0.8500 - val_loss: 0.3428 - val_accuracy: 0.8450\n",
            "Epoch 24/100\n",
            "25/25 [==============================] - 0s 4ms/step - loss: 0.3365 - accuracy: 0.8600 - val_loss: 0.3459 - val_accuracy: 0.8600\n",
            "Epoch 25/100\n",
            "25/25 [==============================] - 0s 4ms/step - loss: 0.3359 - accuracy: 0.8575 - val_loss: 0.3417 - val_accuracy: 0.8400\n",
            "Epoch 26/100\n",
            "25/25 [==============================] - 0s 4ms/step - loss: 0.3343 - accuracy: 0.8550 - val_loss: 0.3451 - val_accuracy: 0.8450\n",
            "Epoch 27/100\n",
            "25/25 [==============================] - 0s 4ms/step - loss: 0.3348 - accuracy: 0.8525 - val_loss: 0.3400 - val_accuracy: 0.8450\n",
            "Epoch 28/100\n",
            "25/25 [==============================] - 0s 4ms/step - loss: 0.3335 - accuracy: 0.8550 - val_loss: 0.3443 - val_accuracy: 0.8450\n",
            "Epoch 29/100\n",
            "25/25 [==============================] - 0s 5ms/step - loss: 0.3332 - accuracy: 0.8562 - val_loss: 0.3382 - val_accuracy: 0.8450\n",
            "Epoch 30/100\n",
            "25/25 [==============================] - 0s 4ms/step - loss: 0.3315 - accuracy: 0.8587 - val_loss: 0.3402 - val_accuracy: 0.8450\n",
            "Epoch 31/100\n",
            "25/25 [==============================] - 0s 4ms/step - loss: 0.3290 - accuracy: 0.8562 - val_loss: 0.3371 - val_accuracy: 0.8450\n",
            "Epoch 32/100\n",
            "25/25 [==============================] - 0s 4ms/step - loss: 0.3301 - accuracy: 0.8512 - val_loss: 0.3397 - val_accuracy: 0.8400\n",
            "Epoch 33/100\n",
            "25/25 [==============================] - 0s 4ms/step - loss: 0.3274 - accuracy: 0.8575 - val_loss: 0.3350 - val_accuracy: 0.8400\n",
            "Epoch 34/100\n",
            "25/25 [==============================] - 0s 4ms/step - loss: 0.3266 - accuracy: 0.8525 - val_loss: 0.3350 - val_accuracy: 0.8400\n",
            "Epoch 35/100\n",
            "25/25 [==============================] - 0s 4ms/step - loss: 0.3248 - accuracy: 0.8562 - val_loss: 0.3361 - val_accuracy: 0.8400\n",
            "Epoch 36/100\n",
            "25/25 [==============================] - 0s 5ms/step - loss: 0.3262 - accuracy: 0.8587 - val_loss: 0.3329 - val_accuracy: 0.8500\n",
            "Epoch 37/100\n",
            "25/25 [==============================] - 0s 4ms/step - loss: 0.3238 - accuracy: 0.8575 - val_loss: 0.3341 - val_accuracy: 0.8450\n",
            "Epoch 38/100\n",
            "25/25 [==============================] - 0s 5ms/step - loss: 0.3234 - accuracy: 0.8512 - val_loss: 0.3347 - val_accuracy: 0.8400\n",
            "Epoch 39/100\n",
            "25/25 [==============================] - 0s 4ms/step - loss: 0.3206 - accuracy: 0.8537 - val_loss: 0.3324 - val_accuracy: 0.8400\n",
            "Epoch 40/100\n",
            "25/25 [==============================] - 0s 4ms/step - loss: 0.3202 - accuracy: 0.8562 - val_loss: 0.3355 - val_accuracy: 0.8400\n",
            "Epoch 41/100\n",
            "25/25 [==============================] - 0s 4ms/step - loss: 0.3191 - accuracy: 0.8600 - val_loss: 0.3311 - val_accuracy: 0.8500\n",
            "Epoch 42/100\n",
            "25/25 [==============================] - 0s 4ms/step - loss: 0.3184 - accuracy: 0.8550 - val_loss: 0.3351 - val_accuracy: 0.8400\n",
            "Epoch 43/100\n",
            "25/25 [==============================] - 0s 4ms/step - loss: 0.3165 - accuracy: 0.8550 - val_loss: 0.3302 - val_accuracy: 0.8550\n",
            "Epoch 44/100\n",
            "25/25 [==============================] - 0s 4ms/step - loss: 0.3161 - accuracy: 0.8587 - val_loss: 0.3320 - val_accuracy: 0.8400\n",
            "Epoch 45/100\n",
            "25/25 [==============================] - 0s 4ms/step - loss: 0.3163 - accuracy: 0.8537 - val_loss: 0.3317 - val_accuracy: 0.8400\n",
            "Epoch 46/100\n",
            "25/25 [==============================] - 0s 4ms/step - loss: 0.3132 - accuracy: 0.8612 - val_loss: 0.3288 - val_accuracy: 0.8400\n",
            "Epoch 47/100\n",
            "25/25 [==============================] - 0s 4ms/step - loss: 0.3125 - accuracy: 0.8612 - val_loss: 0.3315 - val_accuracy: 0.8350\n",
            "Epoch 48/100\n",
            "25/25 [==============================] - 0s 4ms/step - loss: 0.3127 - accuracy: 0.8575 - val_loss: 0.3260 - val_accuracy: 0.8500\n",
            "Epoch 49/100\n",
            "25/25 [==============================] - 0s 4ms/step - loss: 0.3091 - accuracy: 0.8612 - val_loss: 0.3280 - val_accuracy: 0.8400\n",
            "Epoch 50/100\n",
            "25/25 [==============================] - 0s 4ms/step - loss: 0.3083 - accuracy: 0.8625 - val_loss: 0.3304 - val_accuracy: 0.8400\n",
            "Epoch 51/100\n",
            "25/25 [==============================] - 0s 4ms/step - loss: 0.3057 - accuracy: 0.8637 - val_loss: 0.3283 - val_accuracy: 0.8500\n",
            "Epoch 52/100\n",
            "25/25 [==============================] - 0s 4ms/step - loss: 0.3058 - accuracy: 0.8600 - val_loss: 0.3281 - val_accuracy: 0.8450\n",
            "Epoch 53/100\n",
            "25/25 [==============================] - 0s 4ms/step - loss: 0.3047 - accuracy: 0.8637 - val_loss: 0.3259 - val_accuracy: 0.8500\n",
            "Epoch 54/100\n",
            "25/25 [==============================] - 0s 4ms/step - loss: 0.3024 - accuracy: 0.8662 - val_loss: 0.3295 - val_accuracy: 0.8250\n",
            "Epoch 55/100\n",
            "25/25 [==============================] - 0s 4ms/step - loss: 0.3017 - accuracy: 0.8600 - val_loss: 0.3303 - val_accuracy: 0.8150\n",
            "Epoch 56/100\n",
            "25/25 [==============================] - 0s 4ms/step - loss: 0.2991 - accuracy: 0.8637 - val_loss: 0.3241 - val_accuracy: 0.8500\n",
            "Epoch 57/100\n",
            "25/25 [==============================] - 0s 4ms/step - loss: 0.2961 - accuracy: 0.8650 - val_loss: 0.3271 - val_accuracy: 0.8400\n",
            "Epoch 58/100\n",
            "25/25 [==============================] - 0s 4ms/step - loss: 0.2943 - accuracy: 0.8637 - val_loss: 0.3264 - val_accuracy: 0.8350\n",
            "Epoch 59/100\n",
            "25/25 [==============================] - 0s 4ms/step - loss: 0.2917 - accuracy: 0.8712 - val_loss: 0.3253 - val_accuracy: 0.8450\n",
            "Epoch 60/100\n",
            "25/25 [==============================] - 0s 4ms/step - loss: 0.2899 - accuracy: 0.8700 - val_loss: 0.3271 - val_accuracy: 0.8200\n",
            "Epoch 61/100\n",
            "25/25 [==============================] - 0s 4ms/step - loss: 0.2888 - accuracy: 0.8700 - val_loss: 0.3253 - val_accuracy: 0.8400\n",
            "Epoch 62/100\n",
            "25/25 [==============================] - 0s 4ms/step - loss: 0.2873 - accuracy: 0.8687 - val_loss: 0.3258 - val_accuracy: 0.8400\n",
            "Epoch 63/100\n",
            "25/25 [==============================] - 0s 4ms/step - loss: 0.2869 - accuracy: 0.8712 - val_loss: 0.3264 - val_accuracy: 0.8200\n",
            "Epoch 64/100\n",
            "25/25 [==============================] - 0s 4ms/step - loss: 0.2878 - accuracy: 0.8750 - val_loss: 0.3320 - val_accuracy: 0.8200\n",
            "Epoch 65/100\n",
            "25/25 [==============================] - 0s 4ms/step - loss: 0.2823 - accuracy: 0.8712 - val_loss: 0.3236 - val_accuracy: 0.8350\n",
            "Epoch 66/100\n",
            "25/25 [==============================] - 0s 4ms/step - loss: 0.2815 - accuracy: 0.8700 - val_loss: 0.3240 - val_accuracy: 0.8150\n",
            "Epoch 67/100\n",
            "25/25 [==============================] - 0s 4ms/step - loss: 0.2781 - accuracy: 0.8763 - val_loss: 0.3300 - val_accuracy: 0.8150\n",
            "Epoch 68/100\n",
            "25/25 [==============================] - 0s 4ms/step - loss: 0.2778 - accuracy: 0.8750 - val_loss: 0.3290 - val_accuracy: 0.8150\n",
            "Epoch 69/100\n",
            "25/25 [==============================] - 0s 4ms/step - loss: 0.2748 - accuracy: 0.8825 - val_loss: 0.3263 - val_accuracy: 0.8200\n",
            "Epoch 70/100\n",
            "25/25 [==============================] - 0s 4ms/step - loss: 0.2730 - accuracy: 0.8750 - val_loss: 0.3275 - val_accuracy: 0.8150\n",
            "Epoch 71/100\n",
            "25/25 [==============================] - 0s 4ms/step - loss: 0.2724 - accuracy: 0.8775 - val_loss: 0.3270 - val_accuracy: 0.8150\n",
            "Epoch 72/100\n",
            "25/25 [==============================] - 0s 4ms/step - loss: 0.2710 - accuracy: 0.8838 - val_loss: 0.3279 - val_accuracy: 0.8150\n",
            "Epoch 73/100\n",
            "25/25 [==============================] - 0s 4ms/step - loss: 0.2703 - accuracy: 0.8838 - val_loss: 0.3277 - val_accuracy: 0.8250\n",
            "Epoch 74/100\n",
            "25/25 [==============================] - 0s 4ms/step - loss: 0.2681 - accuracy: 0.8800 - val_loss: 0.3261 - val_accuracy: 0.8150\n",
            "Epoch 75/100\n",
            "25/25 [==============================] - 0s 4ms/step - loss: 0.2666 - accuracy: 0.8800 - val_loss: 0.3255 - val_accuracy: 0.8300\n",
            "Epoch 76/100\n",
            "25/25 [==============================] - 0s 4ms/step - loss: 0.2671 - accuracy: 0.8825 - val_loss: 0.3239 - val_accuracy: 0.8500\n",
            "Epoch 77/100\n",
            "25/25 [==============================] - 0s 4ms/step - loss: 0.2702 - accuracy: 0.8825 - val_loss: 0.3257 - val_accuracy: 0.8300\n",
            "Epoch 78/100\n",
            "25/25 [==============================] - 0s 4ms/step - loss: 0.2638 - accuracy: 0.8813 - val_loss: 0.3229 - val_accuracy: 0.8400\n",
            "Epoch 79/100\n",
            "25/25 [==============================] - 0s 4ms/step - loss: 0.2633 - accuracy: 0.8825 - val_loss: 0.3251 - val_accuracy: 0.8400\n",
            "Epoch 80/100\n",
            "25/25 [==============================] - 0s 4ms/step - loss: 0.2610 - accuracy: 0.8863 - val_loss: 0.3207 - val_accuracy: 0.8350\n",
            "Epoch 81/100\n",
            "25/25 [==============================] - 0s 4ms/step - loss: 0.2644 - accuracy: 0.8763 - val_loss: 0.3191 - val_accuracy: 0.8550\n",
            "Epoch 82/100\n",
            "25/25 [==============================] - 0s 4ms/step - loss: 0.2587 - accuracy: 0.8850 - val_loss: 0.3218 - val_accuracy: 0.8350\n",
            "Epoch 83/100\n",
            "25/25 [==============================] - 0s 4ms/step - loss: 0.2616 - accuracy: 0.8788 - val_loss: 0.3205 - val_accuracy: 0.8350\n",
            "Epoch 84/100\n",
            "25/25 [==============================] - 0s 4ms/step - loss: 0.2595 - accuracy: 0.8838 - val_loss: 0.3151 - val_accuracy: 0.8550\n",
            "Epoch 85/100\n",
            "25/25 [==============================] - 0s 5ms/step - loss: 0.2586 - accuracy: 0.8825 - val_loss: 0.3214 - val_accuracy: 0.8350\n",
            "Epoch 86/100\n",
            "25/25 [==============================] - 0s 4ms/step - loss: 0.2556 - accuracy: 0.8813 - val_loss: 0.3154 - val_accuracy: 0.8550\n",
            "Epoch 87/100\n",
            "25/25 [==============================] - 0s 4ms/step - loss: 0.2563 - accuracy: 0.8863 - val_loss: 0.3157 - val_accuracy: 0.8550\n",
            "Epoch 88/100\n",
            "25/25 [==============================] - 0s 4ms/step - loss: 0.2570 - accuracy: 0.8863 - val_loss: 0.3139 - val_accuracy: 0.8500\n",
            "Epoch 89/100\n",
            "25/25 [==============================] - 0s 4ms/step - loss: 0.2556 - accuracy: 0.8863 - val_loss: 0.3203 - val_accuracy: 0.8300\n",
            "Epoch 90/100\n",
            "25/25 [==============================] - 0s 4ms/step - loss: 0.2552 - accuracy: 0.8913 - val_loss: 0.3115 - val_accuracy: 0.8600\n",
            "Epoch 91/100\n",
            "25/25 [==============================] - 0s 4ms/step - loss: 0.2522 - accuracy: 0.8913 - val_loss: 0.3131 - val_accuracy: 0.8550\n",
            "Epoch 92/100\n",
            "25/25 [==============================] - 0s 4ms/step - loss: 0.2537 - accuracy: 0.8988 - val_loss: 0.3108 - val_accuracy: 0.8550\n",
            "Epoch 93/100\n",
            "25/25 [==============================] - 0s 4ms/step - loss: 0.2514 - accuracy: 0.8975 - val_loss: 0.3086 - val_accuracy: 0.8550\n",
            "Epoch 94/100\n",
            "25/25 [==============================] - 0s 4ms/step - loss: 0.2509 - accuracy: 0.8925 - val_loss: 0.3113 - val_accuracy: 0.8600\n",
            "Epoch 95/100\n",
            "25/25 [==============================] - 0s 4ms/step - loss: 0.2518 - accuracy: 0.8913 - val_loss: 0.3174 - val_accuracy: 0.8350\n",
            "Epoch 96/100\n",
            "25/25 [==============================] - 0s 5ms/step - loss: 0.2521 - accuracy: 0.8888 - val_loss: 0.3085 - val_accuracy: 0.8600\n",
            "Epoch 97/100\n",
            "25/25 [==============================] - 0s 4ms/step - loss: 0.2499 - accuracy: 0.8900 - val_loss: 0.3071 - val_accuracy: 0.8550\n",
            "Epoch 98/100\n",
            "25/25 [==============================] - 0s 4ms/step - loss: 0.2482 - accuracy: 0.8975 - val_loss: 0.3056 - val_accuracy: 0.8600\n",
            "Epoch 99/100\n",
            "25/25 [==============================] - 0s 4ms/step - loss: 0.2485 - accuracy: 0.8913 - val_loss: 0.3085 - val_accuracy: 0.8550\n",
            "Epoch 100/100\n",
            "25/25 [==============================] - 0s 4ms/step - loss: 0.2470 - accuracy: 0.8938 - val_loss: 0.3073 - val_accuracy: 0.8550\n"
          ]
        }
      ]
    },
    {
      "cell_type": "code",
      "source": [
        "import pandas as pd\n",
        "\n",
        "pd.DataFrame(history.history).plot(figsize=(8, 5))\n",
        "plt.grid(True)\n",
        "plt.gca().set_ylim(0, 1)\n",
        "plt.show()"
      ],
      "metadata": {
        "colab": {
          "base_uri": "https://localhost:8080/",
          "height": 324
        },
        "id": "E6K_N1KVeZHp",
        "outputId": "ba26d793-931a-4b4c-ab45-6d272d84ed35"
      },
      "execution_count": 36,
      "outputs": [
        {
          "output_type": "display_data",
          "data": {
            "text/plain": [
              "<Figure size 576x360 with 1 Axes>"
            ],
            "image/png": "[encoded data removed]"
          },
          "metadata": {
            "needs_background": "light"
          }
        }
      ]
    }
  ]
}